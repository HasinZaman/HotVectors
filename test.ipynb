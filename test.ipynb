{
 "cells": [
  {
   "cell_type": "code",
   "execution_count": 9,
   "metadata": {},
   "outputs": [
    {
     "name": "stdout",
     "output_type": "stream",
     "text": [
      "Response from '/metadata': [(\"a462dbec-f994-43f2-b1a3-f5c44f21fedd\", 0, [0.0, 0.0])]\n"
     ]
    }
   ],
   "source": [
    "import requests\n",
    "import json\n",
    "from random import random\n",
    "\n",
    "# Define the base URL of the API\n",
    "base_url = \"http://localhost:3000\"\n",
    "\n",
    "# Send a vector to the '/insert' endpoint\n",
    "def insert_vector(vector_data):\n",
    "    url = f\"{base_url}/insert\"\n",
    "    headers = {'Content-Type': 'application/json'}\n",
    "    response = requests.post(url, headers=headers, data=json.dumps(vector_data))\n",
    "    \n",
    "    if response.status_code == 200:\n",
    "        print(f\"Response from '/insert': {response.json()}\")\n",
    "    else:\n",
    "        print(f\"Error: {response.status_code}\")\n",
    "\n",
    "def insert_batch_vector(vector_data):\n",
    "    url = f\"{base_url}/insert_batch\"\n",
    "    headers = {'Content-Type': 'application/json'}\n",
    "    response = requests.post(url, headers=headers, data=json.dumps(vector_data))\n",
    "    \n",
    "    if response.status_code == 200:\n",
    "        print(f\"Response from '/insert': {response.json()}\")\n",
    "    else:\n",
    "        print(f\"Error: {response.status_code}\")\n",
    "\n",
    "# Request metadata from the '/metadata' endpoint\n",
    "def get_metadata():\n",
    "    url = f\"{base_url}/metadata\"\n",
    "    headers = {'Content-Type': 'application/json'}\n",
    "    response = requests.post(url, headers=headers)\n",
    "    \n",
    "    if response.status_code == 200:\n",
    "        print(f\"Response from '/metadata': {response.json()}\")\n",
    "    else:\n",
    "        print(f\"Error: {response.status_code}\")\n",
    "\n",
    "# Example: Sending a vector to the API\n",
    "vector_data = {\n",
    "    \"vector\": [random(), random()]  # Example vector data\n",
    "}\n",
    "\n",
    "# Example: Requesting metadata\n",
    "get_metadata()\n"
   ]
  },
  {
   "cell_type": "code",
   "execution_count": 2,
   "metadata": {},
   "outputs": [
    {
     "name": "stdout",
     "output_type": "stream",
     "text": [
      "Random Points in N-D: [[0.5261617146698793, 0.4983760581743976, 0.46307820712783243], [0.513683182412631, 0.47537486988816957, 0.5142954973835697], [0.5243116056101841, 0.4948224391038416, 0.5026795919810914], [0.4938637376531503, 0.5150863010767547, 0.517631930124538], [0.5320690924885616, 0.4945469040576802, 0.5289470089223143]]\n"
     ]
    }
   ],
   "source": [
    "from random import uniform\n",
    "import numpy as np\n",
    "\n",
    "# Generate random points within a radius around a center point in n-dimensional space\n",
    "def generate_random_points_nd(center, radius, num_points):\n",
    "    \"\"\"\n",
    "    Generates random points within a given radius around a center point in n-dimensional space.\n",
    "\n",
    "    Parameters:\n",
    "        center (list or tuple): A list or tuple representing the center point in n-dimensional space.\n",
    "        radius (float): The radius within which to generate points.\n",
    "        num_points (int): The number of points to generate.\n",
    "\n",
    "    Returns:\n",
    "        list: A list of lists representing random points within the specified radius.\n",
    "    \"\"\"\n",
    "    n = len(center)\n",
    "    points = []\n",
    "\n",
    "    for _ in range(num_points):\n",
    "        # Generate a random point within the n-dimensional sphere\n",
    "        random_direction = np.random.normal(0, 1, n)  # Random direction vector\n",
    "        random_direction /= np.linalg.norm(random_direction)  # Normalize to unit length\n",
    "        random_distance = uniform(0, radius)  # Random distance within radius\n",
    "        random_point = [center[i] + random_distance * random_direction[i] for i in range(n)]\n",
    "        points.append(random_point)\n",
    "\n",
    "    return points\n",
    "\n",
    "# Example usage\n",
    "center_point = [0.5, 0.5, 0.5]  # 3D center\n",
    "radius = 0.1\n",
    "num_points = 5\n",
    "random_points_nd = generate_random_points_nd(center_point, radius, num_points)\n",
    "print(\"Random Points in N-D:\", random_points_nd)"
   ]
  },
  {
   "cell_type": "code",
   "execution_count": 3,
   "metadata": {},
   "outputs": [
    {
     "ename": "KeyboardInterrupt",
     "evalue": "",
     "output_type": "error",
     "traceback": [
      "\u001b[1;31m---------------------------------------------------------------------------\u001b[0m",
      "\u001b[1;31mConnectionRefusedError\u001b[0m                    Traceback (most recent call last)",
      "File \u001b[1;32mc:\\Users\\hasin\\AppData\\Local\\Programs\\Python\\Python311\\Lib\\site-packages\\urllib3\\util\\connection.py:85\u001b[0m, in \u001b[0;36mcreate_connection\u001b[1;34m(address, timeout, source_address, socket_options)\u001b[0m\n\u001b[0;32m     84\u001b[0m     sock\u001b[38;5;241m.\u001b[39mbind(source_address)\n\u001b[1;32m---> 85\u001b[0m \u001b[43msock\u001b[49m\u001b[38;5;241;43m.\u001b[39;49m\u001b[43mconnect\u001b[49m\u001b[43m(\u001b[49m\u001b[43msa\u001b[49m\u001b[43m)\u001b[49m\n\u001b[0;32m     86\u001b[0m \u001b[38;5;28;01mreturn\u001b[39;00m sock\n",
      "\u001b[1;31mConnectionRefusedError\u001b[0m: [WinError 10061] No connection could be made because the target machine actively refused it",
      "\nDuring handling of the above exception, another exception occurred:\n",
      "\u001b[1;31mKeyboardInterrupt\u001b[0m                         Traceback (most recent call last)",
      "Cell \u001b[1;32mIn[3], line 1\u001b[0m\n\u001b[1;32m----> 1\u001b[0m \u001b[43minsert_vector\u001b[49m\u001b[43m(\u001b[49m\u001b[43m{\u001b[49m\n\u001b[0;32m      2\u001b[0m \u001b[43m    \u001b[49m\u001b[38;5;124;43m\"\u001b[39;49m\u001b[38;5;124;43mvector\u001b[39;49m\u001b[38;5;124;43m\"\u001b[39;49m\u001b[43m:\u001b[49m\u001b[43m \u001b[49m\u001b[43m[\u001b[49m\u001b[43mrandom\u001b[49m\u001b[43m(\u001b[49m\u001b[43m)\u001b[49m\u001b[43m,\u001b[49m\u001b[43m \u001b[49m\u001b[43mrandom\u001b[49m\u001b[43m(\u001b[49m\u001b[43m)\u001b[49m\u001b[43m]\u001b[49m\u001b[43m  \u001b[49m\u001b[38;5;66;43;03m# Example vector data\u001b[39;49;00m\n\u001b[0;32m      3\u001b[0m \u001b[43m}\u001b[49m\u001b[43m)\u001b[49m\n",
      "Cell \u001b[1;32mIn[1], line 12\u001b[0m, in \u001b[0;36minsert_vector\u001b[1;34m(vector_data)\u001b[0m\n\u001b[0;32m     10\u001b[0m url \u001b[38;5;241m=\u001b[39m \u001b[38;5;124mf\u001b[39m\u001b[38;5;124m\"\u001b[39m\u001b[38;5;132;01m{\u001b[39;00mbase_url\u001b[38;5;132;01m}\u001b[39;00m\u001b[38;5;124m/insert\u001b[39m\u001b[38;5;124m\"\u001b[39m\n\u001b[0;32m     11\u001b[0m headers \u001b[38;5;241m=\u001b[39m {\u001b[38;5;124m'\u001b[39m\u001b[38;5;124mContent-Type\u001b[39m\u001b[38;5;124m'\u001b[39m: \u001b[38;5;124m'\u001b[39m\u001b[38;5;124mapplication/json\u001b[39m\u001b[38;5;124m'\u001b[39m}\n\u001b[1;32m---> 12\u001b[0m response \u001b[38;5;241m=\u001b[39m \u001b[43mrequests\u001b[49m\u001b[38;5;241;43m.\u001b[39;49m\u001b[43mpost\u001b[49m\u001b[43m(\u001b[49m\u001b[43murl\u001b[49m\u001b[43m,\u001b[49m\u001b[43m \u001b[49m\u001b[43mheaders\u001b[49m\u001b[38;5;241;43m=\u001b[39;49m\u001b[43mheaders\u001b[49m\u001b[43m,\u001b[49m\u001b[43m \u001b[49m\u001b[43mdata\u001b[49m\u001b[38;5;241;43m=\u001b[39;49m\u001b[43mjson\u001b[49m\u001b[38;5;241;43m.\u001b[39;49m\u001b[43mdumps\u001b[49m\u001b[43m(\u001b[49m\u001b[43mvector_data\u001b[49m\u001b[43m)\u001b[49m\u001b[43m)\u001b[49m\n\u001b[0;32m     14\u001b[0m \u001b[38;5;28;01mif\u001b[39;00m response\u001b[38;5;241m.\u001b[39mstatus_code \u001b[38;5;241m==\u001b[39m \u001b[38;5;241m200\u001b[39m:\n\u001b[0;32m     15\u001b[0m     \u001b[38;5;28mprint\u001b[39m(\u001b[38;5;124mf\u001b[39m\u001b[38;5;124m\"\u001b[39m\u001b[38;5;124mResponse from \u001b[39m\u001b[38;5;124m'\u001b[39m\u001b[38;5;124m/insert\u001b[39m\u001b[38;5;124m'\u001b[39m\u001b[38;5;124m: \u001b[39m\u001b[38;5;132;01m{\u001b[39;00mresponse\u001b[38;5;241m.\u001b[39mjson()\u001b[38;5;132;01m}\u001b[39;00m\u001b[38;5;124m\"\u001b[39m)\n",
      "File \u001b[1;32mc:\\Users\\hasin\\AppData\\Local\\Programs\\Python\\Python311\\Lib\\site-packages\\requests\\api.py:115\u001b[0m, in \u001b[0;36mpost\u001b[1;34m(url, data, json, **kwargs)\u001b[0m\n\u001b[0;32m    103\u001b[0m \u001b[38;5;28;01mdef\u001b[39;00m \u001b[38;5;21mpost\u001b[39m(url, data\u001b[38;5;241m=\u001b[39m\u001b[38;5;28;01mNone\u001b[39;00m, json\u001b[38;5;241m=\u001b[39m\u001b[38;5;28;01mNone\u001b[39;00m, \u001b[38;5;241m*\u001b[39m\u001b[38;5;241m*\u001b[39mkwargs):\n\u001b[0;32m    104\u001b[0m \u001b[38;5;250m    \u001b[39m\u001b[38;5;124mr\u001b[39m\u001b[38;5;124;03m\"\"\"Sends a POST request.\u001b[39;00m\n\u001b[0;32m    105\u001b[0m \n\u001b[0;32m    106\u001b[0m \u001b[38;5;124;03m    :param url: URL for the new :class:`Request` object.\u001b[39;00m\n\u001b[1;32m   (...)\u001b[0m\n\u001b[0;32m    112\u001b[0m \u001b[38;5;124;03m    :rtype: requests.Response\u001b[39;00m\n\u001b[0;32m    113\u001b[0m \u001b[38;5;124;03m    \"\"\"\u001b[39;00m\n\u001b[1;32m--> 115\u001b[0m     \u001b[38;5;28;01mreturn\u001b[39;00m \u001b[43mrequest\u001b[49m\u001b[43m(\u001b[49m\u001b[38;5;124;43m\"\u001b[39;49m\u001b[38;5;124;43mpost\u001b[39;49m\u001b[38;5;124;43m\"\u001b[39;49m\u001b[43m,\u001b[49m\u001b[43m \u001b[49m\u001b[43murl\u001b[49m\u001b[43m,\u001b[49m\u001b[43m \u001b[49m\u001b[43mdata\u001b[49m\u001b[38;5;241;43m=\u001b[39;49m\u001b[43mdata\u001b[49m\u001b[43m,\u001b[49m\u001b[43m \u001b[49m\u001b[43mjson\u001b[49m\u001b[38;5;241;43m=\u001b[39;49m\u001b[43mjson\u001b[49m\u001b[43m,\u001b[49m\u001b[43m \u001b[49m\u001b[38;5;241;43m*\u001b[39;49m\u001b[38;5;241;43m*\u001b[39;49m\u001b[43mkwargs\u001b[49m\u001b[43m)\u001b[49m\n",
      "File \u001b[1;32mc:\\Users\\hasin\\AppData\\Local\\Programs\\Python\\Python311\\Lib\\site-packages\\requests\\api.py:59\u001b[0m, in \u001b[0;36mrequest\u001b[1;34m(method, url, **kwargs)\u001b[0m\n\u001b[0;32m     55\u001b[0m \u001b[38;5;66;03m# By using the 'with' statement we are sure the session is closed, thus we\u001b[39;00m\n\u001b[0;32m     56\u001b[0m \u001b[38;5;66;03m# avoid leaving sockets open which can trigger a ResourceWarning in some\u001b[39;00m\n\u001b[0;32m     57\u001b[0m \u001b[38;5;66;03m# cases, and look like a memory leak in others.\u001b[39;00m\n\u001b[0;32m     58\u001b[0m \u001b[38;5;28;01mwith\u001b[39;00m sessions\u001b[38;5;241m.\u001b[39mSession() \u001b[38;5;28;01mas\u001b[39;00m session:\n\u001b[1;32m---> 59\u001b[0m     \u001b[38;5;28;01mreturn\u001b[39;00m \u001b[43msession\u001b[49m\u001b[38;5;241;43m.\u001b[39;49m\u001b[43mrequest\u001b[49m\u001b[43m(\u001b[49m\u001b[43mmethod\u001b[49m\u001b[38;5;241;43m=\u001b[39;49m\u001b[43mmethod\u001b[49m\u001b[43m,\u001b[49m\u001b[43m \u001b[49m\u001b[43murl\u001b[49m\u001b[38;5;241;43m=\u001b[39;49m\u001b[43murl\u001b[49m\u001b[43m,\u001b[49m\u001b[43m \u001b[49m\u001b[38;5;241;43m*\u001b[39;49m\u001b[38;5;241;43m*\u001b[39;49m\u001b[43mkwargs\u001b[49m\u001b[43m)\u001b[49m\n",
      "File \u001b[1;32mc:\\Users\\hasin\\AppData\\Local\\Programs\\Python\\Python311\\Lib\\site-packages\\requests\\sessions.py:589\u001b[0m, in \u001b[0;36mSession.request\u001b[1;34m(self, method, url, params, data, headers, cookies, files, auth, timeout, allow_redirects, proxies, hooks, stream, verify, cert, json)\u001b[0m\n\u001b[0;32m    584\u001b[0m send_kwargs \u001b[38;5;241m=\u001b[39m {\n\u001b[0;32m    585\u001b[0m     \u001b[38;5;124m\"\u001b[39m\u001b[38;5;124mtimeout\u001b[39m\u001b[38;5;124m\"\u001b[39m: timeout,\n\u001b[0;32m    586\u001b[0m     \u001b[38;5;124m\"\u001b[39m\u001b[38;5;124mallow_redirects\u001b[39m\u001b[38;5;124m\"\u001b[39m: allow_redirects,\n\u001b[0;32m    587\u001b[0m }\n\u001b[0;32m    588\u001b[0m send_kwargs\u001b[38;5;241m.\u001b[39mupdate(settings)\n\u001b[1;32m--> 589\u001b[0m resp \u001b[38;5;241m=\u001b[39m \u001b[38;5;28;43mself\u001b[39;49m\u001b[38;5;241;43m.\u001b[39;49m\u001b[43msend\u001b[49m\u001b[43m(\u001b[49m\u001b[43mprep\u001b[49m\u001b[43m,\u001b[49m\u001b[43m \u001b[49m\u001b[38;5;241;43m*\u001b[39;49m\u001b[38;5;241;43m*\u001b[39;49m\u001b[43msend_kwargs\u001b[49m\u001b[43m)\u001b[49m\n\u001b[0;32m    591\u001b[0m \u001b[38;5;28;01mreturn\u001b[39;00m resp\n",
      "File \u001b[1;32mc:\\Users\\hasin\\AppData\\Local\\Programs\\Python\\Python311\\Lib\\site-packages\\requests\\sessions.py:703\u001b[0m, in \u001b[0;36mSession.send\u001b[1;34m(self, request, **kwargs)\u001b[0m\n\u001b[0;32m    700\u001b[0m start \u001b[38;5;241m=\u001b[39m preferred_clock()\n\u001b[0;32m    702\u001b[0m \u001b[38;5;66;03m# Send the request\u001b[39;00m\n\u001b[1;32m--> 703\u001b[0m r \u001b[38;5;241m=\u001b[39m \u001b[43madapter\u001b[49m\u001b[38;5;241;43m.\u001b[39;49m\u001b[43msend\u001b[49m\u001b[43m(\u001b[49m\u001b[43mrequest\u001b[49m\u001b[43m,\u001b[49m\u001b[43m \u001b[49m\u001b[38;5;241;43m*\u001b[39;49m\u001b[38;5;241;43m*\u001b[39;49m\u001b[43mkwargs\u001b[49m\u001b[43m)\u001b[49m\n\u001b[0;32m    705\u001b[0m \u001b[38;5;66;03m# Total elapsed time of the request (approximately)\u001b[39;00m\n\u001b[0;32m    706\u001b[0m elapsed \u001b[38;5;241m=\u001b[39m preferred_clock() \u001b[38;5;241m-\u001b[39m start\n",
      "File \u001b[1;32mc:\\Users\\hasin\\AppData\\Local\\Programs\\Python\\Python311\\Lib\\site-packages\\requests\\adapters.py:486\u001b[0m, in \u001b[0;36mHTTPAdapter.send\u001b[1;34m(self, request, stream, timeout, verify, cert, proxies)\u001b[0m\n\u001b[0;32m    483\u001b[0m     timeout \u001b[38;5;241m=\u001b[39m TimeoutSauce(connect\u001b[38;5;241m=\u001b[39mtimeout, read\u001b[38;5;241m=\u001b[39mtimeout)\n\u001b[0;32m    485\u001b[0m \u001b[38;5;28;01mtry\u001b[39;00m:\n\u001b[1;32m--> 486\u001b[0m     resp \u001b[38;5;241m=\u001b[39m \u001b[43mconn\u001b[49m\u001b[38;5;241;43m.\u001b[39;49m\u001b[43murlopen\u001b[49m\u001b[43m(\u001b[49m\n\u001b[0;32m    487\u001b[0m \u001b[43m        \u001b[49m\u001b[43mmethod\u001b[49m\u001b[38;5;241;43m=\u001b[39;49m\u001b[43mrequest\u001b[49m\u001b[38;5;241;43m.\u001b[39;49m\u001b[43mmethod\u001b[49m\u001b[43m,\u001b[49m\n\u001b[0;32m    488\u001b[0m \u001b[43m        \u001b[49m\u001b[43murl\u001b[49m\u001b[38;5;241;43m=\u001b[39;49m\u001b[43murl\u001b[49m\u001b[43m,\u001b[49m\n\u001b[0;32m    489\u001b[0m \u001b[43m        \u001b[49m\u001b[43mbody\u001b[49m\u001b[38;5;241;43m=\u001b[39;49m\u001b[43mrequest\u001b[49m\u001b[38;5;241;43m.\u001b[39;49m\u001b[43mbody\u001b[49m\u001b[43m,\u001b[49m\n\u001b[0;32m    490\u001b[0m \u001b[43m        \u001b[49m\u001b[43mheaders\u001b[49m\u001b[38;5;241;43m=\u001b[39;49m\u001b[43mrequest\u001b[49m\u001b[38;5;241;43m.\u001b[39;49m\u001b[43mheaders\u001b[49m\u001b[43m,\u001b[49m\n\u001b[0;32m    491\u001b[0m \u001b[43m        \u001b[49m\u001b[43mredirect\u001b[49m\u001b[38;5;241;43m=\u001b[39;49m\u001b[38;5;28;43;01mFalse\u001b[39;49;00m\u001b[43m,\u001b[49m\n\u001b[0;32m    492\u001b[0m \u001b[43m        \u001b[49m\u001b[43massert_same_host\u001b[49m\u001b[38;5;241;43m=\u001b[39;49m\u001b[38;5;28;43;01mFalse\u001b[39;49;00m\u001b[43m,\u001b[49m\n\u001b[0;32m    493\u001b[0m \u001b[43m        \u001b[49m\u001b[43mpreload_content\u001b[49m\u001b[38;5;241;43m=\u001b[39;49m\u001b[38;5;28;43;01mFalse\u001b[39;49;00m\u001b[43m,\u001b[49m\n\u001b[0;32m    494\u001b[0m \u001b[43m        \u001b[49m\u001b[43mdecode_content\u001b[49m\u001b[38;5;241;43m=\u001b[39;49m\u001b[38;5;28;43;01mFalse\u001b[39;49;00m\u001b[43m,\u001b[49m\n\u001b[0;32m    495\u001b[0m \u001b[43m        \u001b[49m\u001b[43mretries\u001b[49m\u001b[38;5;241;43m=\u001b[39;49m\u001b[38;5;28;43mself\u001b[39;49m\u001b[38;5;241;43m.\u001b[39;49m\u001b[43mmax_retries\u001b[49m\u001b[43m,\u001b[49m\n\u001b[0;32m    496\u001b[0m \u001b[43m        \u001b[49m\u001b[43mtimeout\u001b[49m\u001b[38;5;241;43m=\u001b[39;49m\u001b[43mtimeout\u001b[49m\u001b[43m,\u001b[49m\n\u001b[0;32m    497\u001b[0m \u001b[43m        \u001b[49m\u001b[43mchunked\u001b[49m\u001b[38;5;241;43m=\u001b[39;49m\u001b[43mchunked\u001b[49m\u001b[43m,\u001b[49m\n\u001b[0;32m    498\u001b[0m \u001b[43m    \u001b[49m\u001b[43m)\u001b[49m\n\u001b[0;32m    500\u001b[0m \u001b[38;5;28;01mexcept\u001b[39;00m (ProtocolError, \u001b[38;5;167;01mOSError\u001b[39;00m) \u001b[38;5;28;01mas\u001b[39;00m err:\n\u001b[0;32m    501\u001b[0m     \u001b[38;5;28;01mraise\u001b[39;00m \u001b[38;5;167;01mConnectionError\u001b[39;00m(err, request\u001b[38;5;241m=\u001b[39mrequest)\n",
      "File \u001b[1;32mc:\\Users\\hasin\\AppData\\Local\\Programs\\Python\\Python311\\Lib\\site-packages\\urllib3\\connectionpool.py:715\u001b[0m, in \u001b[0;36mHTTPConnectionPool.urlopen\u001b[1;34m(self, method, url, body, headers, retries, redirect, assert_same_host, timeout, pool_timeout, release_conn, chunked, body_pos, **response_kw)\u001b[0m\n\u001b[0;32m    712\u001b[0m     \u001b[38;5;28mself\u001b[39m\u001b[38;5;241m.\u001b[39m_prepare_proxy(conn)\n\u001b[0;32m    714\u001b[0m \u001b[38;5;66;03m# Make the request on the httplib connection object.\u001b[39;00m\n\u001b[1;32m--> 715\u001b[0m httplib_response \u001b[38;5;241m=\u001b[39m \u001b[38;5;28;43mself\u001b[39;49m\u001b[38;5;241;43m.\u001b[39;49m\u001b[43m_make_request\u001b[49m\u001b[43m(\u001b[49m\n\u001b[0;32m    716\u001b[0m \u001b[43m    \u001b[49m\u001b[43mconn\u001b[49m\u001b[43m,\u001b[49m\n\u001b[0;32m    717\u001b[0m \u001b[43m    \u001b[49m\u001b[43mmethod\u001b[49m\u001b[43m,\u001b[49m\n\u001b[0;32m    718\u001b[0m \u001b[43m    \u001b[49m\u001b[43murl\u001b[49m\u001b[43m,\u001b[49m\n\u001b[0;32m    719\u001b[0m \u001b[43m    \u001b[49m\u001b[43mtimeout\u001b[49m\u001b[38;5;241;43m=\u001b[39;49m\u001b[43mtimeout_obj\u001b[49m\u001b[43m,\u001b[49m\n\u001b[0;32m    720\u001b[0m \u001b[43m    \u001b[49m\u001b[43mbody\u001b[49m\u001b[38;5;241;43m=\u001b[39;49m\u001b[43mbody\u001b[49m\u001b[43m,\u001b[49m\n\u001b[0;32m    721\u001b[0m \u001b[43m    \u001b[49m\u001b[43mheaders\u001b[49m\u001b[38;5;241;43m=\u001b[39;49m\u001b[43mheaders\u001b[49m\u001b[43m,\u001b[49m\n\u001b[0;32m    722\u001b[0m \u001b[43m    \u001b[49m\u001b[43mchunked\u001b[49m\u001b[38;5;241;43m=\u001b[39;49m\u001b[43mchunked\u001b[49m\u001b[43m,\u001b[49m\n\u001b[0;32m    723\u001b[0m \u001b[43m\u001b[49m\u001b[43m)\u001b[49m\n\u001b[0;32m    725\u001b[0m \u001b[38;5;66;03m# If we're going to release the connection in ``finally:``, then\u001b[39;00m\n\u001b[0;32m    726\u001b[0m \u001b[38;5;66;03m# the response doesn't need to know about the connection. Otherwise\u001b[39;00m\n\u001b[0;32m    727\u001b[0m \u001b[38;5;66;03m# it will also try to release it and we'll have a double-release\u001b[39;00m\n\u001b[0;32m    728\u001b[0m \u001b[38;5;66;03m# mess.\u001b[39;00m\n\u001b[0;32m    729\u001b[0m response_conn \u001b[38;5;241m=\u001b[39m conn \u001b[38;5;28;01mif\u001b[39;00m \u001b[38;5;129;01mnot\u001b[39;00m release_conn \u001b[38;5;28;01melse\u001b[39;00m \u001b[38;5;28;01mNone\u001b[39;00m\n",
      "File \u001b[1;32mc:\\Users\\hasin\\AppData\\Local\\Programs\\Python\\Python311\\Lib\\site-packages\\urllib3\\connectionpool.py:416\u001b[0m, in \u001b[0;36mHTTPConnectionPool._make_request\u001b[1;34m(self, conn, method, url, timeout, chunked, **httplib_request_kw)\u001b[0m\n\u001b[0;32m    414\u001b[0m         conn\u001b[38;5;241m.\u001b[39mrequest_chunked(method, url, \u001b[38;5;241m*\u001b[39m\u001b[38;5;241m*\u001b[39mhttplib_request_kw)\n\u001b[0;32m    415\u001b[0m     \u001b[38;5;28;01melse\u001b[39;00m:\n\u001b[1;32m--> 416\u001b[0m         \u001b[43mconn\u001b[49m\u001b[38;5;241;43m.\u001b[39;49m\u001b[43mrequest\u001b[49m\u001b[43m(\u001b[49m\u001b[43mmethod\u001b[49m\u001b[43m,\u001b[49m\u001b[43m \u001b[49m\u001b[43murl\u001b[49m\u001b[43m,\u001b[49m\u001b[43m \u001b[49m\u001b[38;5;241;43m*\u001b[39;49m\u001b[38;5;241;43m*\u001b[39;49m\u001b[43mhttplib_request_kw\u001b[49m\u001b[43m)\u001b[49m\n\u001b[0;32m    418\u001b[0m \u001b[38;5;66;03m# We are swallowing BrokenPipeError (errno.EPIPE) since the server is\u001b[39;00m\n\u001b[0;32m    419\u001b[0m \u001b[38;5;66;03m# legitimately able to close the connection after sending a valid response.\u001b[39;00m\n\u001b[0;32m    420\u001b[0m \u001b[38;5;66;03m# With this behaviour, the received response is still readable.\u001b[39;00m\n\u001b[0;32m    421\u001b[0m \u001b[38;5;28;01mexcept\u001b[39;00m \u001b[38;5;167;01mBrokenPipeError\u001b[39;00m:\n\u001b[0;32m    422\u001b[0m     \u001b[38;5;66;03m# Python 3\u001b[39;00m\n",
      "File \u001b[1;32mc:\\Users\\hasin\\AppData\\Local\\Programs\\Python\\Python311\\Lib\\site-packages\\urllib3\\connection.py:244\u001b[0m, in \u001b[0;36mHTTPConnection.request\u001b[1;34m(self, method, url, body, headers)\u001b[0m\n\u001b[0;32m    242\u001b[0m \u001b[38;5;28;01mif\u001b[39;00m \u001b[38;5;124m\"\u001b[39m\u001b[38;5;124muser-agent\u001b[39m\u001b[38;5;124m\"\u001b[39m \u001b[38;5;129;01mnot\u001b[39;00m \u001b[38;5;129;01min\u001b[39;00m (six\u001b[38;5;241m.\u001b[39mensure_str(k\u001b[38;5;241m.\u001b[39mlower()) \u001b[38;5;28;01mfor\u001b[39;00m k \u001b[38;5;129;01min\u001b[39;00m headers):\n\u001b[0;32m    243\u001b[0m     headers[\u001b[38;5;124m\"\u001b[39m\u001b[38;5;124mUser-Agent\u001b[39m\u001b[38;5;124m\"\u001b[39m] \u001b[38;5;241m=\u001b[39m _get_default_user_agent()\n\u001b[1;32m--> 244\u001b[0m \u001b[38;5;28;43msuper\u001b[39;49m\u001b[43m(\u001b[49m\u001b[43mHTTPConnection\u001b[49m\u001b[43m,\u001b[49m\u001b[43m \u001b[49m\u001b[38;5;28;43mself\u001b[39;49m\u001b[43m)\u001b[49m\u001b[38;5;241;43m.\u001b[39;49m\u001b[43mrequest\u001b[49m\u001b[43m(\u001b[49m\u001b[43mmethod\u001b[49m\u001b[43m,\u001b[49m\u001b[43m \u001b[49m\u001b[43murl\u001b[49m\u001b[43m,\u001b[49m\u001b[43m \u001b[49m\u001b[43mbody\u001b[49m\u001b[38;5;241;43m=\u001b[39;49m\u001b[43mbody\u001b[49m\u001b[43m,\u001b[49m\u001b[43m \u001b[49m\u001b[43mheaders\u001b[49m\u001b[38;5;241;43m=\u001b[39;49m\u001b[43mheaders\u001b[49m\u001b[43m)\u001b[49m\n",
      "File \u001b[1;32mc:\\Users\\hasin\\AppData\\Local\\Programs\\Python\\Python311\\Lib\\http\\client.py:1286\u001b[0m, in \u001b[0;36mHTTPConnection.request\u001b[1;34m(self, method, url, body, headers, encode_chunked)\u001b[0m\n\u001b[0;32m   1283\u001b[0m \u001b[38;5;28;01mdef\u001b[39;00m \u001b[38;5;21mrequest\u001b[39m(\u001b[38;5;28mself\u001b[39m, method, url, body\u001b[38;5;241m=\u001b[39m\u001b[38;5;28;01mNone\u001b[39;00m, headers\u001b[38;5;241m=\u001b[39m{}, \u001b[38;5;241m*\u001b[39m,\n\u001b[0;32m   1284\u001b[0m             encode_chunked\u001b[38;5;241m=\u001b[39m\u001b[38;5;28;01mFalse\u001b[39;00m):\n\u001b[0;32m   1285\u001b[0m \u001b[38;5;250m    \u001b[39m\u001b[38;5;124;03m\"\"\"Send a complete request to the server.\"\"\"\u001b[39;00m\n\u001b[1;32m-> 1286\u001b[0m     \u001b[38;5;28;43mself\u001b[39;49m\u001b[38;5;241;43m.\u001b[39;49m\u001b[43m_send_request\u001b[49m\u001b[43m(\u001b[49m\u001b[43mmethod\u001b[49m\u001b[43m,\u001b[49m\u001b[43m \u001b[49m\u001b[43murl\u001b[49m\u001b[43m,\u001b[49m\u001b[43m \u001b[49m\u001b[43mbody\u001b[49m\u001b[43m,\u001b[49m\u001b[43m \u001b[49m\u001b[43mheaders\u001b[49m\u001b[43m,\u001b[49m\u001b[43m \u001b[49m\u001b[43mencode_chunked\u001b[49m\u001b[43m)\u001b[49m\n",
      "File \u001b[1;32mc:\\Users\\hasin\\AppData\\Local\\Programs\\Python\\Python311\\Lib\\http\\client.py:1332\u001b[0m, in \u001b[0;36mHTTPConnection._send_request\u001b[1;34m(self, method, url, body, headers, encode_chunked)\u001b[0m\n\u001b[0;32m   1328\u001b[0m \u001b[38;5;28;01mif\u001b[39;00m \u001b[38;5;28misinstance\u001b[39m(body, \u001b[38;5;28mstr\u001b[39m):\n\u001b[0;32m   1329\u001b[0m     \u001b[38;5;66;03m# RFC 2616 Section 3.7.1 says that text default has a\u001b[39;00m\n\u001b[0;32m   1330\u001b[0m     \u001b[38;5;66;03m# default charset of iso-8859-1.\u001b[39;00m\n\u001b[0;32m   1331\u001b[0m     body \u001b[38;5;241m=\u001b[39m _encode(body, \u001b[38;5;124m'\u001b[39m\u001b[38;5;124mbody\u001b[39m\u001b[38;5;124m'\u001b[39m)\n\u001b[1;32m-> 1332\u001b[0m \u001b[38;5;28;43mself\u001b[39;49m\u001b[38;5;241;43m.\u001b[39;49m\u001b[43mendheaders\u001b[49m\u001b[43m(\u001b[49m\u001b[43mbody\u001b[49m\u001b[43m,\u001b[49m\u001b[43m \u001b[49m\u001b[43mencode_chunked\u001b[49m\u001b[38;5;241;43m=\u001b[39;49m\u001b[43mencode_chunked\u001b[49m\u001b[43m)\u001b[49m\n",
      "File \u001b[1;32mc:\\Users\\hasin\\AppData\\Local\\Programs\\Python\\Python311\\Lib\\http\\client.py:1281\u001b[0m, in \u001b[0;36mHTTPConnection.endheaders\u001b[1;34m(self, message_body, encode_chunked)\u001b[0m\n\u001b[0;32m   1279\u001b[0m \u001b[38;5;28;01melse\u001b[39;00m:\n\u001b[0;32m   1280\u001b[0m     \u001b[38;5;28;01mraise\u001b[39;00m CannotSendHeader()\n\u001b[1;32m-> 1281\u001b[0m \u001b[38;5;28;43mself\u001b[39;49m\u001b[38;5;241;43m.\u001b[39;49m\u001b[43m_send_output\u001b[49m\u001b[43m(\u001b[49m\u001b[43mmessage_body\u001b[49m\u001b[43m,\u001b[49m\u001b[43m \u001b[49m\u001b[43mencode_chunked\u001b[49m\u001b[38;5;241;43m=\u001b[39;49m\u001b[43mencode_chunked\u001b[49m\u001b[43m)\u001b[49m\n",
      "File \u001b[1;32mc:\\Users\\hasin\\AppData\\Local\\Programs\\Python\\Python311\\Lib\\http\\client.py:1041\u001b[0m, in \u001b[0;36mHTTPConnection._send_output\u001b[1;34m(self, message_body, encode_chunked)\u001b[0m\n\u001b[0;32m   1039\u001b[0m msg \u001b[38;5;241m=\u001b[39m \u001b[38;5;124mb\u001b[39m\u001b[38;5;124m\"\u001b[39m\u001b[38;5;130;01m\\r\u001b[39;00m\u001b[38;5;130;01m\\n\u001b[39;00m\u001b[38;5;124m\"\u001b[39m\u001b[38;5;241m.\u001b[39mjoin(\u001b[38;5;28mself\u001b[39m\u001b[38;5;241m.\u001b[39m_buffer)\n\u001b[0;32m   1040\u001b[0m \u001b[38;5;28;01mdel\u001b[39;00m \u001b[38;5;28mself\u001b[39m\u001b[38;5;241m.\u001b[39m_buffer[:]\n\u001b[1;32m-> 1041\u001b[0m \u001b[38;5;28;43mself\u001b[39;49m\u001b[38;5;241;43m.\u001b[39;49m\u001b[43msend\u001b[49m\u001b[43m(\u001b[49m\u001b[43mmsg\u001b[49m\u001b[43m)\u001b[49m\n\u001b[0;32m   1043\u001b[0m \u001b[38;5;28;01mif\u001b[39;00m message_body \u001b[38;5;129;01mis\u001b[39;00m \u001b[38;5;129;01mnot\u001b[39;00m \u001b[38;5;28;01mNone\u001b[39;00m:\n\u001b[0;32m   1044\u001b[0m \n\u001b[0;32m   1045\u001b[0m     \u001b[38;5;66;03m# create a consistent interface to message_body\u001b[39;00m\n\u001b[0;32m   1046\u001b[0m     \u001b[38;5;28;01mif\u001b[39;00m \u001b[38;5;28mhasattr\u001b[39m(message_body, \u001b[38;5;124m'\u001b[39m\u001b[38;5;124mread\u001b[39m\u001b[38;5;124m'\u001b[39m):\n\u001b[0;32m   1047\u001b[0m         \u001b[38;5;66;03m# Let file-like take precedence over byte-like.  This\u001b[39;00m\n\u001b[0;32m   1048\u001b[0m         \u001b[38;5;66;03m# is needed to allow the current position of mmap'ed\u001b[39;00m\n\u001b[0;32m   1049\u001b[0m         \u001b[38;5;66;03m# files to be taken into account.\u001b[39;00m\n",
      "File \u001b[1;32mc:\\Users\\hasin\\AppData\\Local\\Programs\\Python\\Python311\\Lib\\http\\client.py:979\u001b[0m, in \u001b[0;36mHTTPConnection.send\u001b[1;34m(self, data)\u001b[0m\n\u001b[0;32m    977\u001b[0m \u001b[38;5;28;01mif\u001b[39;00m \u001b[38;5;28mself\u001b[39m\u001b[38;5;241m.\u001b[39msock \u001b[38;5;129;01mis\u001b[39;00m \u001b[38;5;28;01mNone\u001b[39;00m:\n\u001b[0;32m    978\u001b[0m     \u001b[38;5;28;01mif\u001b[39;00m \u001b[38;5;28mself\u001b[39m\u001b[38;5;241m.\u001b[39mauto_open:\n\u001b[1;32m--> 979\u001b[0m         \u001b[38;5;28;43mself\u001b[39;49m\u001b[38;5;241;43m.\u001b[39;49m\u001b[43mconnect\u001b[49m\u001b[43m(\u001b[49m\u001b[43m)\u001b[49m\n\u001b[0;32m    980\u001b[0m     \u001b[38;5;28;01melse\u001b[39;00m:\n\u001b[0;32m    981\u001b[0m         \u001b[38;5;28;01mraise\u001b[39;00m NotConnected()\n",
      "File \u001b[1;32mc:\\Users\\hasin\\AppData\\Local\\Programs\\Python\\Python311\\Lib\\site-packages\\urllib3\\connection.py:205\u001b[0m, in \u001b[0;36mHTTPConnection.connect\u001b[1;34m(self)\u001b[0m\n\u001b[0;32m    204\u001b[0m \u001b[38;5;28;01mdef\u001b[39;00m \u001b[38;5;21mconnect\u001b[39m(\u001b[38;5;28mself\u001b[39m):\n\u001b[1;32m--> 205\u001b[0m     conn \u001b[38;5;241m=\u001b[39m \u001b[38;5;28;43mself\u001b[39;49m\u001b[38;5;241;43m.\u001b[39;49m\u001b[43m_new_conn\u001b[49m\u001b[43m(\u001b[49m\u001b[43m)\u001b[49m\n\u001b[0;32m    206\u001b[0m     \u001b[38;5;28mself\u001b[39m\u001b[38;5;241m.\u001b[39m_prepare_conn(conn)\n",
      "File \u001b[1;32mc:\\Users\\hasin\\AppData\\Local\\Programs\\Python\\Python311\\Lib\\site-packages\\urllib3\\connection.py:174\u001b[0m, in \u001b[0;36mHTTPConnection._new_conn\u001b[1;34m(self)\u001b[0m\n\u001b[0;32m    171\u001b[0m     extra_kw[\u001b[38;5;124m\"\u001b[39m\u001b[38;5;124msocket_options\u001b[39m\u001b[38;5;124m\"\u001b[39m] \u001b[38;5;241m=\u001b[39m \u001b[38;5;28mself\u001b[39m\u001b[38;5;241m.\u001b[39msocket_options\n\u001b[0;32m    173\u001b[0m \u001b[38;5;28;01mtry\u001b[39;00m:\n\u001b[1;32m--> 174\u001b[0m     conn \u001b[38;5;241m=\u001b[39m \u001b[43mconnection\u001b[49m\u001b[38;5;241;43m.\u001b[39;49m\u001b[43mcreate_connection\u001b[49m\u001b[43m(\u001b[49m\n\u001b[0;32m    175\u001b[0m \u001b[43m        \u001b[49m\u001b[43m(\u001b[49m\u001b[38;5;28;43mself\u001b[39;49m\u001b[38;5;241;43m.\u001b[39;49m\u001b[43m_dns_host\u001b[49m\u001b[43m,\u001b[49m\u001b[43m \u001b[49m\u001b[38;5;28;43mself\u001b[39;49m\u001b[38;5;241;43m.\u001b[39;49m\u001b[43mport\u001b[49m\u001b[43m)\u001b[49m\u001b[43m,\u001b[49m\u001b[43m \u001b[49m\u001b[38;5;28;43mself\u001b[39;49m\u001b[38;5;241;43m.\u001b[39;49m\u001b[43mtimeout\u001b[49m\u001b[43m,\u001b[49m\u001b[43m \u001b[49m\u001b[38;5;241;43m*\u001b[39;49m\u001b[38;5;241;43m*\u001b[39;49m\u001b[43mextra_kw\u001b[49m\n\u001b[0;32m    176\u001b[0m \u001b[43m    \u001b[49m\u001b[43m)\u001b[49m\n\u001b[0;32m    178\u001b[0m \u001b[38;5;28;01mexcept\u001b[39;00m SocketTimeout:\n\u001b[0;32m    179\u001b[0m     \u001b[38;5;28;01mraise\u001b[39;00m ConnectTimeoutError(\n\u001b[0;32m    180\u001b[0m         \u001b[38;5;28mself\u001b[39m,\n\u001b[0;32m    181\u001b[0m         \u001b[38;5;124m\"\u001b[39m\u001b[38;5;124mConnection to \u001b[39m\u001b[38;5;132;01m%s\u001b[39;00m\u001b[38;5;124m timed out. (connect timeout=\u001b[39m\u001b[38;5;132;01m%s\u001b[39;00m\u001b[38;5;124m)\u001b[39m\u001b[38;5;124m\"\u001b[39m\n\u001b[0;32m    182\u001b[0m         \u001b[38;5;241m%\u001b[39m (\u001b[38;5;28mself\u001b[39m\u001b[38;5;241m.\u001b[39mhost, \u001b[38;5;28mself\u001b[39m\u001b[38;5;241m.\u001b[39mtimeout),\n\u001b[0;32m    183\u001b[0m     )\n",
      "File \u001b[1;32mc:\\Users\\hasin\\AppData\\Local\\Programs\\Python\\Python311\\Lib\\site-packages\\urllib3\\util\\connection.py:91\u001b[0m, in \u001b[0;36mcreate_connection\u001b[1;34m(address, timeout, source_address, socket_options)\u001b[0m\n\u001b[0;32m     89\u001b[0m         err \u001b[38;5;241m=\u001b[39m e\n\u001b[0;32m     90\u001b[0m         \u001b[38;5;28;01mif\u001b[39;00m sock \u001b[38;5;129;01mis\u001b[39;00m \u001b[38;5;129;01mnot\u001b[39;00m \u001b[38;5;28;01mNone\u001b[39;00m:\n\u001b[1;32m---> 91\u001b[0m             \u001b[43msock\u001b[49m\u001b[38;5;241;43m.\u001b[39;49m\u001b[43mclose\u001b[49m\u001b[43m(\u001b[49m\u001b[43m)\u001b[49m\n\u001b[0;32m     92\u001b[0m             sock \u001b[38;5;241m=\u001b[39m \u001b[38;5;28;01mNone\u001b[39;00m\n\u001b[0;32m     94\u001b[0m \u001b[38;5;28;01mif\u001b[39;00m err \u001b[38;5;129;01mis\u001b[39;00m \u001b[38;5;129;01mnot\u001b[39;00m \u001b[38;5;28;01mNone\u001b[39;00m:\n",
      "File \u001b[1;32mc:\\Users\\hasin\\AppData\\Local\\Programs\\Python\\Python311\\Lib\\socket.py:499\u001b[0m, in \u001b[0;36msocket.close\u001b[1;34m(self)\u001b[0m\n\u001b[0;32m    495\u001b[0m \u001b[38;5;28;01mdef\u001b[39;00m \u001b[38;5;21m_real_close\u001b[39m(\u001b[38;5;28mself\u001b[39m, _ss\u001b[38;5;241m=\u001b[39m_socket\u001b[38;5;241m.\u001b[39msocket):\n\u001b[0;32m    496\u001b[0m     \u001b[38;5;66;03m# This function should not reference any globals. See issue #808164.\u001b[39;00m\n\u001b[0;32m    497\u001b[0m     _ss\u001b[38;5;241m.\u001b[39mclose(\u001b[38;5;28mself\u001b[39m)\n\u001b[1;32m--> 499\u001b[0m \u001b[38;5;28;01mdef\u001b[39;00m \u001b[38;5;21mclose\u001b[39m(\u001b[38;5;28mself\u001b[39m):\n\u001b[0;32m    500\u001b[0m     \u001b[38;5;66;03m# This function should not reference any globals. See issue #808164.\u001b[39;00m\n\u001b[0;32m    501\u001b[0m     \u001b[38;5;28mself\u001b[39m\u001b[38;5;241m.\u001b[39m_closed \u001b[38;5;241m=\u001b[39m \u001b[38;5;28;01mTrue\u001b[39;00m\n\u001b[0;32m    502\u001b[0m     \u001b[38;5;28;01mif\u001b[39;00m \u001b[38;5;28mself\u001b[39m\u001b[38;5;241m.\u001b[39m_io_refs \u001b[38;5;241m<\u001b[39m\u001b[38;5;241m=\u001b[39m \u001b[38;5;241m0\u001b[39m:\n",
      "\u001b[1;31mKeyboardInterrupt\u001b[0m: "
     ]
    }
   ],
   "source": [
    "insert_vector({\n",
    "    \"vector\": [random(), random()]  # Example vector data\n",
    "})"
   ]
  },
  {
   "cell_type": "code",
   "execution_count": 5,
   "metadata": {},
   "outputs": [
    {
     "name": "stdout",
     "output_type": "stream",
     "text": [
      "Response from '/metadata': [(\"b8a0ea2b-c467-47d3-a119-8ceb23a372f3\", 0, [0.0, 0.0])]\n"
     ]
    }
   ],
   "source": [
    "get_metadata()\n"
   ]
  },
  {
   "cell_type": "markdown",
   "metadata": {},
   "source": [
    "# Multiple Insert After restart test"
   ]
  },
  {
   "cell_type": "code",
   "execution_count": null,
   "metadata": {},
   "outputs": [],
   "source": [
    "vector_groups = [[[random(), random()] for i1 in range(10)] for i2 in range(3)]\n",
    "\n",
    "for group in vector_groups:\n",
    "\n",
    "    for i, vector in enumerate(group):\n",
    "        if i % 5 == 0:\n",
    "            get_metadata()\n",
    "\n",
    "        insert_vector({\n",
    "            \"vector\": vector  # Example vector data\n",
    "        })\n",
    "    get_metadata()\n",
    "\n",
    "    input(\"Press enter after restart\")"
   ]
  },
  {
   "cell_type": "markdown",
   "metadata": {},
   "source": [
    "# Large Input test"
   ]
  },
  {
   "cell_type": "code",
   "execution_count": 23,
   "metadata": {},
   "outputs": [],
   "source": [
    "vectors = [[random(), random()] for i in range(10_000)]"
   ]
  },
  {
   "cell_type": "code",
   "execution_count": 3,
   "metadata": {},
   "outputs": [
    {
     "data": {
      "text/plain": [
       "[[0.9669315687897173, 0.0273713962446398],\n",
       " [0.6301209352451318, 0.9025555451924251],\n",
       " [0.7729855960646582, 0.20938707077779917],\n",
       " [0.1449271034396279, 0.7054761422903234],\n",
       " [0.41483458522066663, 0.5475788765775336],\n",
       " [0.23156991475859046, 0.588748634475793],\n",
       " [0.7679894055555223, 0.028381396379180246],\n",
       " [0.9269056880886407, 0.7216407033715241],\n",
       " [0.5916688747251228, 0.23700238028970577],\n",
       " [0.23390876163839713, 0.660925315831499]]"
      ]
     },
     "execution_count": 3,
     "metadata": {},
     "output_type": "execute_result"
    }
   ],
   "source": [
    "vectors"
   ]
  },
  {
   "cell_type": "code",
   "execution_count": 14,
   "metadata": {},
   "outputs": [
    {
     "name": "stdout",
     "output_type": "stream",
     "text": [
      "Response from '/metadata': [(\"74823c3a-c158-47a0-9d90-d2acc1014a5c\", 0, [0.0, 0.0])]\n",
      "Response from '/insert': Vector received\n",
      "Response from '/insert': Vector received\n",
      "Response from '/insert': Vector received\n",
      "Response from '/insert': Vector received\n",
      "Response from '/insert': Vector received\n",
      "Response from '/metadata': [(\"fc5f8d55-4869-4565-99c9-1365df235407\", 3, [0.54519457, 0.7474221]), (\"74823c3a-c158-47a0-9d90-d2acc1014a5c\", 2, [0.71994185, 0.24717858])]\n",
      "Response from '/insert': Vector received\n",
      "Response from '/insert': Vector received\n",
      "Response from '/insert': Vector received\n",
      "Response from '/insert': Vector received\n",
      "Response from '/insert': Vector received\n",
      "Response from '/metadata': [(\"fc5f8d55-4869-4565-99c9-1365df235407\", 4, [0.5552125, 0.41369691]), (\"1b5e78ca-272f-4493-a4bf-2591b4f8b910\", 3, [0.54519457, 0.7474221]), (\"74823c3a-c158-47a0-9d90-d2acc1014a5c\", 3, [0.6086507, 0.39331502])]\n",
      "Response from '/insert': Vector received\n",
      "Response from '/insert': Vector received\n",
      "Response from '/insert': Vector received\n",
      "Response from '/insert': Vector received\n",
      "Response from '/insert': Vector received\n",
      "Response from '/metadata': [(\"a4cdf56f-fe76-4030-9e8d-8d986dba6146\", 2, [0.72829044, 0.48676306]), (\"fc5f8d55-4869-4565-99c9-1365df235407\", 4, [0.5552125, 0.41369691]), (\"1b5e78ca-272f-4493-a4bf-2591b4f8b910\", 3, [0.2830436, 0.51079047]), (\"74823c3a-c158-47a0-9d90-d2acc1014a5c\", 3, [0.6086507, 0.39331502]), (\"d363b8a4-0653-4644-b479-1142509c892d\", 3, [0.38620472, 0.66815776])]\n",
      "Response from '/insert': Vector received\n",
      "Response from '/insert': Vector received\n",
      "Response from '/insert': Vector received\n",
      "Response from '/insert': Vector received\n",
      "Response from '/insert': Vector received\n",
      "Response from '/metadata': [(\"a4cdf56f-fe76-4030-9e8d-8d986dba6146\", 4, [0.5036323, 0.38756478]), (\"fc5f8d55-4869-4565-99c9-1365df235407\", 4, [0.5552125, 0.41369691]), (\"1b5e78ca-272f-4493-a4bf-2591b4f8b910\", 4, [0.33282873, 0.52018046]), (\"74823c3a-c158-47a0-9d90-d2acc1014a5c\", 3, [0.6086507, 0.39331502]), (\"7c3fb3b1-da0a-411c-bd14-09b95627cfc8\", 4, [0.49179634, 0.37831104]), (\"d363b8a4-0653-4644-b479-1142509c892d\", 1, [0.5036322, 0.9899299])]\n",
      "Response from '/insert': Vector received\n",
      "Response from '/insert': Vector received\n",
      "Response from '/insert': Vector received\n",
      "Response from '/insert': Vector received\n",
      "Response from '/insert': Vector received\n",
      "Response from '/metadata': [(\"a4cdf56f-fe76-4030-9e8d-8d986dba6146\", 4, [0.5036323, 0.38756478]), (\"fc5f8d55-4869-4565-99c9-1365df235407\", 4, [0.5552125, 0.41369691]), (\"1b5e78ca-272f-4493-a4bf-2591b4f8b910\", 1, [0.14761744, 0.048222333]), (\"74823c3a-c158-47a0-9d90-d2acc1014a5c\", 4, [0.555988, 0.53924066]), (\"7c3fb3b1-da0a-411c-bd14-09b95627cfc8\", 4, [0.49179634, 0.37831104]), (\"59374687-cc41-4db8-9fd5-4bd6e7b4167b\", 4, [0.47977614, 0.70572805]), (\"d363b8a4-0653-4644-b479-1142509c892d\", 4, [0.3463696, 0.51928055])]\n",
      "Response from '/insert': Vector received\n",
      "Response from '/insert': Vector received\n",
      "Response from '/insert': Vector received\n",
      "Response from '/insert': Vector received\n",
      "Response from '/insert': Vector received\n",
      "Response from '/metadata': [(\"74823c3a-c158-47a0-9d90-d2acc1014a5c\", 4, [0.555988, 0.53924066]), (\"7c3fb3b1-da0a-411c-bd14-09b95627cfc8\", 1, [0.7505559, 0.04546359]), (\"fe118f24-2604-4aa8-ae34-ed1847aa4c05\", 4, [0.38045317, 0.58842146]), (\"fab032f1-c6bd-4329-aa9a-b60397735ea0\", 4, [0.47887743, 0.5656732]), (\"a4cdf56f-fe76-4030-9e8d-8d986dba6146\", 4, [0.5036323, 0.38756478]), (\"fc5f8d55-4869-4565-99c9-1365df235407\", 4, [0.5552125, 0.41369691]), (\"1b5e78ca-272f-4493-a4bf-2591b4f8b910\", 2, [0.257256, 0.37630558]), (\"59374687-cc41-4db8-9fd5-4bd6e7b4167b\", 3, [0.23389816, 0.5487386]), (\"d363b8a4-0653-4644-b479-1142509c892d\", 4, [0.3463696, 0.51928055])]\n",
      "Response from '/insert': Vector received\n",
      "Response from '/insert': Vector received\n",
      "Response from '/insert': Vector received\n",
      "Response from '/insert': Vector received\n",
      "Response from '/insert': Vector received\n",
      "Response from '/metadata': [(\"74823c3a-c158-47a0-9d90-d2acc1014a5c\", 4, [0.555988, 0.53924066]), (\"7c3fb3b1-da0a-411c-bd14-09b95627cfc8\", 3, [0.4042431, 0.2725581]), (\"fe118f24-2604-4aa8-ae34-ed1847aa4c05\", 2, [0.18577445, 0.508639]), (\"fab032f1-c6bd-4329-aa9a-b60397735ea0\", 4, [0.47887743, 0.5656732]), (\"a4cdf56f-fe76-4030-9e8d-8d986dba6146\", 4, [0.5036323, 0.38756478]), (\"fc5f8d55-4869-4565-99c9-1365df235407\", 4, [0.5552125, 0.41369691]), (\"1b5e78ca-272f-4493-a4bf-2591b4f8b910\", 2, [0.257256, 0.37630558]), (\"59374687-cc41-4db8-9fd5-4bd6e7b4167b\", 4, [0.29037958, 0.4335616]), (\"4cc6443e-fae8-4687-b34a-7014ebd64d36\", 4, [0.39154553, 0.3975597]), (\"d363b8a4-0653-4644-b479-1142509c892d\", 4, [0.3463696, 0.51928055])]\n",
      "Response from '/insert': Vector received\n",
      "Response from '/insert': Vector received\n",
      "Response from '/insert': Vector received\n",
      "Response from '/insert': Vector received\n",
      "Response from '/insert': Vector received\n",
      "Response from '/metadata': [(\"74823c3a-c158-47a0-9d90-d2acc1014a5c\", 4, [0.555988, 0.53924066]), (\"7c3fb3b1-da0a-411c-bd14-09b95627cfc8\", 4, [0.35593683, 0.41327125]), (\"fe118f24-2604-4aa8-ae34-ed1847aa4c05\", 3, [0.42160034, 0.4735239]), (\"fab032f1-c6bd-4329-aa9a-b60397735ea0\", 4, [0.47887743, 0.5656732]), (\"a4cdf56f-fe76-4030-9e8d-8d986dba6146\", 4, [0.5036323, 0.38756478]), (\"fc5f8d55-4869-4565-99c9-1365df235407\", 3, [0.44168466, 0.44682378]), (\"1b5e78ca-272f-4493-a4bf-2591b4f8b910\", 3, [0.4911717, 0.5530502]), (\"59374687-cc41-4db8-9fd5-4bd6e7b4167b\", 4, [0.29037958, 0.4335616]), (\"4cc6443e-fae8-4687-b34a-7014ebd64d36\", 4, [0.39154553, 0.3975597]), (\"d363b8a4-0653-4644-b479-1142509c892d\", 4, [0.3463696, 0.51928055]), (\"ccddc5e9-1afa-41a5-a5e9-d516b6078a5e\", 3, [0.4122004, 0.31663603])]\n",
      "Response from '/insert': Vector received\n",
      "Response from '/insert': Vector received\n",
      "Response from '/insert': Vector received\n",
      "Response from '/insert': Vector received\n",
      "Response from '/insert': Vector received\n",
      "Response from '/metadata': [(\"76f28232-8b45-45e2-b1a9-5008f46a0804\", 3, [0.37421808, 0.34840342]), (\"74823c3a-c158-47a0-9d90-d2acc1014a5c\", 3, [0.5849212, 0.40224022]), (\"7c3fb3b1-da0a-411c-bd14-09b95627cfc8\", 4, [0.35593683, 0.41327125]), (\"fe118f24-2604-4aa8-ae34-ed1847aa4c05\", 3, [0.42160034, 0.4735239]), (\"fab032f1-c6bd-4329-aa9a-b60397735ea0\", 4, [0.47887743, 0.5656732]), (\"a4cdf56f-fe76-4030-9e8d-8d986dba6146\", 4, [0.5036323, 0.38756478]), (\"fc5f8d55-4869-4565-99c9-1365df235407\", 3, [0.44168466, 0.44682378]), (\"1b5e78ca-272f-4493-a4bf-2591b4f8b910\", 3, [0.4911717, 0.5530502]), (\"59374687-cc41-4db8-9fd5-4bd6e7b4167b\", 4, [0.29037958, 0.4335616]), (\"4cc6443e-fae8-4687-b34a-7014ebd64d36\", 4, [0.39154553, 0.3975597]), (\"c91db42e-87da-49d0-908c-bb59c4740f2b\", 2, [0.39203417, 0.83130276]), (\"d363b8a4-0653-4644-b479-1142509c892d\", 4, [0.3463696, 0.51928055]), (\"ccddc5e9-1afa-41a5-a5e9-d516b6078a5e\", 4, [0.39376098, 0.3831579])]\n",
      "Response from '/insert': Vector received\n",
      "Response from '/insert': Vector received\n",
      "Response from '/insert': Vector received\n",
      "Response from '/insert': Vector received\n",
      "Response from '/insert': Vector received\n",
      "Response from '/metadata': [(\"ccddc5e9-1afa-41a5-a5e9-d516b6078a5e\", 4, [0.39376098, 0.3831579]), (\"74823c3a-c158-47a0-9d90-d2acc1014a5c\", 3, [0.5849212, 0.40224022]), (\"7c3fb3b1-da0a-411c-bd14-09b95627cfc8\", 4, [0.35593683, 0.41327125]), (\"c91db42e-87da-49d0-908c-bb59c4740f2b\", 4, [0.52803123, 0.46131113]), (\"a4cdf56f-fe76-4030-9e8d-8d986dba6146\", 4, [0.5036323, 0.38756478]), (\"1b5e78ca-272f-4493-a4bf-2591b4f8b910\", 3, [0.4911717, 0.5530502]), (\"59374687-cc41-4db8-9fd5-4bd6e7b4167b\", 2, [0.86554736, 0.3815672]), (\"4cc6443e-fae8-4687-b34a-7014ebd64d36\", 4, [0.39154553, 0.3975597]), (\"76f28232-8b45-45e2-b1a9-5008f46a0804\", 3, [0.37421808, 0.34840342]), (\"4c7cbe10-ed48-46ae-806e-5a263c2f3847\", 3, [0.32108173, 0.6137204]), (\"fe118f24-2604-4aa8-ae34-ed1847aa4c05\", 3, [0.42160034, 0.4735239]), (\"fab032f1-c6bd-4329-aa9a-b60397735ea0\", 4, [0.47887743, 0.5656732]), (\"fc5f8d55-4869-4565-99c9-1365df235407\", 3, [0.44168466, 0.44682378]), (\"f06daf4b-1503-43c9-8c43-79bdf93704a0\", 2, [0.3026643, 0.09951916]), (\"d363b8a4-0653-4644-b479-1142509c892d\", 4, [0.3463696, 0.51928055])]\n",
      "Response from '/insert': Vector received\n",
      "Response from '/insert': Vector received\n",
      "Response from '/insert': Vector received\n",
      "Response from '/insert': Vector received\n",
      "Response from '/insert': Vector received\n",
      "Response from '/metadata': [(\"ccddc5e9-1afa-41a5-a5e9-d516b6078a5e\", 4, [0.39376098, 0.3831579]), (\"74823c3a-c158-47a0-9d90-d2acc1014a5c\", 3, [0.5849212, 0.40224022]), (\"7c3fb3b1-da0a-411c-bd14-09b95627cfc8\", 4, [0.35593683, 0.41327125]), (\"c91db42e-87da-49d0-908c-bb59c4740f2b\", 4, [0.52803123, 0.46131113]), (\"a4cdf56f-fe76-4030-9e8d-8d986dba6146\", 4, [0.5036323, 0.38756478]), (\"1b5e78ca-272f-4493-a4bf-2591b4f8b910\", 3, [0.4911717, 0.5530502]), (\"59374687-cc41-4db8-9fd5-4bd6e7b4167b\", 3, [0.6313278, 0.4725276]), (\"4cc6443e-fae8-4687-b34a-7014ebd64d36\", 4, [0.39154553, 0.3975597]), (\"76f28232-8b45-45e2-b1a9-5008f46a0804\", 3, [0.37421808, 0.34840342]), (\"4c7cbe10-ed48-46ae-806e-5a263c2f3847\", 4, [0.383872, 0.49664116]), (\"8d56592b-80fc-4b2c-84fd-3517bc253cae\", 3, [0.4844477, 0.6200868]), (\"fe118f24-2604-4aa8-ae34-ed1847aa4c05\", 3, [0.42160034, 0.4735239]), (\"fab032f1-c6bd-4329-aa9a-b60397735ea0\", 4, [0.47887743, 0.5656732]), (\"fc5f8d55-4869-4565-99c9-1365df235407\", 3, [0.44168466, 0.44682378]), (\"f06daf4b-1503-43c9-8c43-79bdf93704a0\", 2, [0.3026643, 0.09951916]), (\"d363b8a4-0653-4644-b479-1142509c892d\", 4, [0.3463696, 0.51928055])]\n",
      "Response from '/insert': Vector received\n",
      "Response from '/insert': Vector received\n",
      "Response from '/insert': Vector received\n",
      "Response from '/insert': Vector received\n",
      "Response from '/insert': Vector received\n",
      "Response from '/metadata': [(\"ccddc5e9-1afa-41a5-a5e9-d516b6078a5e\", 4, [0.39376098, 0.3831579]), (\"74823c3a-c158-47a0-9d90-d2acc1014a5c\", 4, [0.48796314, 0.3934452]), (\"7c3fb3b1-da0a-411c-bd14-09b95627cfc8\", 4, [0.35593683, 0.41327125]), (\"c91db42e-87da-49d0-908c-bb59c4740f2b\", 4, [0.52803123, 0.46131113]), (\"a4cdf56f-fe76-4030-9e8d-8d986dba6146\", 4, [0.5036323, 0.38756478]), (\"1b5e78ca-272f-4493-a4bf-2591b4f8b910\", 3, [0.4911717, 0.5530502]), (\"59374687-cc41-4db8-9fd5-4bd6e7b4167b\", 4, [0.557646, 0.44895652]), (\"4cc6443e-fae8-4687-b34a-7014ebd64d36\", 4, [0.39154553, 0.3975597]), (\"76f28232-8b45-45e2-b1a9-5008f46a0804\", 4, [0.5003947, 0.49146897]), (\"4c7cbe10-ed48-46ae-806e-5a263c2f3847\", 4, [0.383872, 0.49664116]), (\"8d56592b-80fc-4b2c-84fd-3517bc253cae\", 4, [0.4204475, 0.541577]), (\"fe118f24-2604-4aa8-ae34-ed1847aa4c05\", 3, [0.42160034, 0.4735239]), (\"fab032f1-c6bd-4329-aa9a-b60397735ea0\", 4, [0.47887743, 0.5656732]), (\"fc5f8d55-4869-4565-99c9-1365df235407\", 3, [0.44168466, 0.44682378]), (\"f06daf4b-1503-43c9-8c43-79bdf93704a0\", 3, [0.42019385, 0.37721056]), (\"d363b8a4-0653-4644-b479-1142509c892d\", 4, [0.3463696, 0.51928055])]\n",
      "Response from '/insert': Vector received\n",
      "Response from '/insert': Vector received\n",
      "Response from '/insert': Vector received\n",
      "Response from '/insert': Vector received\n",
      "Response from '/insert': Vector received\n",
      "Response from '/metadata': [(\"ccddc5e9-1afa-41a5-a5e9-d516b6078a5e\", 4, [0.39376098, 0.3831579]), (\"74823c3a-c158-47a0-9d90-d2acc1014a5c\", 4, [0.48796314, 0.3934452]), (\"7c3fb3b1-da0a-411c-bd14-09b95627cfc8\", 4, [0.35593683, 0.41327125]), (\"6bb4278a-9648-4317-a4c0-039ddd9dc268\", 2, [0.13326675, 0.59240586]), (\"c91db42e-87da-49d0-908c-bb59c4740f2b\", 4, [0.52803123, 0.46131113]), (\"a4cdf56f-fe76-4030-9e8d-8d986dba6146\", 1, [0.09921278, 0.114910886]), (\"1b5e78ca-272f-4493-a4bf-2591b4f8b910\", 3, [0.4911717, 0.5530502]), (\"59374687-cc41-4db8-9fd5-4bd6e7b4167b\", 4, [0.557646, 0.44895652]), (\"4cc6443e-fae8-4687-b34a-7014ebd64d36\", 4, [0.39154553, 0.3975597]), (\"76f28232-8b45-45e2-b1a9-5008f46a0804\", 4, [0.5003947, 0.49146897]), (\"4c7cbe10-ed48-46ae-806e-5a263c2f3847\", 4, [0.383872, 0.49664116]), (\"8d56592b-80fc-4b2c-84fd-3517bc253cae\", 4, [0.4204475, 0.541577]), (\"9dad221f-6531-43cb-913f-92c64835f88b\", 4, [0.35592917, 0.32583666]), (\"fe118f24-2604-4aa8-ae34-ed1847aa4c05\", 3, [0.42160034, 0.4735239]), (\"fab032f1-c6bd-4329-aa9a-b60397735ea0\", 4, [0.47887743, 0.5656732]), (\"fc5f8d55-4869-4565-99c9-1365df235407\", 3, [0.44168466, 0.44682378]), (\"b5b85a76-fce1-416f-92a7-8cb59775d8c0\", 3, [0.6384388, 0.47844943]), (\"f06daf4b-1503-43c9-8c43-79bdf93704a0\", 3, [0.42019385, 0.37721056]), (\"d363b8a4-0653-4644-b479-1142509c892d\", 3, [0.26149163, 0.5143121])]\n",
      "Response from '/insert': Vector received\n",
      "Response from '/insert': Vector received\n",
      "Response from '/insert': Vector received\n",
      "Response from '/insert': Vector received\n",
      "Response from '/insert': Vector received\n",
      "Response from '/metadata': [(\"ccddc5e9-1afa-41a5-a5e9-d516b6078a5e\", 4, [0.39376098, 0.3831579]), (\"74823c3a-c158-47a0-9d90-d2acc1014a5c\", 4, [0.48796314, 0.3934452]), (\"7c3fb3b1-da0a-411c-bd14-09b95627cfc8\", 4, [0.35593683, 0.41327125]), (\"6bb4278a-9648-4317-a4c0-039ddd9dc268\", 3, [0.3113867, 0.45436987]), (\"c91db42e-87da-49d0-908c-bb59c4740f2b\", 4, [0.52803123, 0.46131113]), (\"a4cdf56f-fe76-4030-9e8d-8d986dba6146\", 2, [0.22898644, 0.35378087]), (\"1b5e78ca-272f-4493-a4bf-2591b4f8b910\", 4, [0.40005392, 0.47370988]), (\"59374687-cc41-4db8-9fd5-4bd6e7b4167b\", 4, [0.557646, 0.44895652]), (\"4cc6443e-fae8-4687-b34a-7014ebd64d36\", 4, [0.39154553, 0.3975597]), (\"76f28232-8b45-45e2-b1a9-5008f46a0804\", 4, [0.5003947, 0.49146897]), (\"4c7cbe10-ed48-46ae-806e-5a263c2f3847\", 4, [0.383872, 0.49664116]), (\"8d56592b-80fc-4b2c-84fd-3517bc253cae\", 4, [0.4204475, 0.541577]), (\"9dad221f-6531-43cb-913f-92c64835f88b\", 2, [0.37341392, 0.1556432]), (\"fe118f24-2604-4aa8-ae34-ed1847aa4c05\", 3, [0.42160034, 0.4735239]), (\"9ee2db60-2da0-4f16-bc97-b0e40f591760\", 3, [0.33398616, 0.62978977]), (\"fab032f1-c6bd-4329-aa9a-b60397735ea0\", 4, [0.47887743, 0.5656732]), (\"fc5f8d55-4869-4565-99c9-1365df235407\", 3, [0.44168466, 0.44682378]), (\"b5b85a76-fce1-416f-92a7-8cb59775d8c0\", 4, [0.49241877, 0.45931]), (\"f06daf4b-1503-43c9-8c43-79bdf93704a0\", 3, [0.42019385, 0.37721056]), (\"d363b8a4-0653-4644-b479-1142509c892d\", 3, [0.26149163, 0.5143121])]\n",
      "Response from '/insert': Vector received\n",
      "Response from '/insert': Vector received\n",
      "Response from '/insert': Vector received\n",
      "Response from '/insert': Vector received\n",
      "Response from '/insert': Vector received\n",
      "Response from '/metadata': [(\"ccddc5e9-1afa-41a5-a5e9-d516b6078a5e\", 4, [0.39376098, 0.3831579]), (\"74823c3a-c158-47a0-9d90-d2acc1014a5c\", 4, [0.48796314, 0.3934452]), (\"7c3fb3b1-da0a-411c-bd14-09b95627cfc8\", 4, [0.35593683, 0.41327125]), (\"6bb4278a-9648-4317-a4c0-039ddd9dc268\", 3, [0.3113867, 0.45436987]), (\"c91db42e-87da-49d0-908c-bb59c4740f2b\", 4, [0.52803123, 0.46131113]), (\"a4cdf56f-fe76-4030-9e8d-8d986dba6146\", 3, [0.48349625, 0.56814003]), (\"1b5e78ca-272f-4493-a4bf-2591b4f8b910\", 4, [0.40005392, 0.47370988]), (\"59374687-cc41-4db8-9fd5-4bd6e7b4167b\", 3, [0.23911726, 0.48941165]), (\"4cc6443e-fae8-4687-b34a-7014ebd64d36\", 4, [0.39154553, 0.3975597]), (\"76f28232-8b45-45e2-b1a9-5008f46a0804\", 4, [0.5003947, 0.49146897]), (\"4c7cbe10-ed48-46ae-806e-5a263c2f3847\", 4, [0.383872, 0.49664116]), (\"8d56592b-80fc-4b2c-84fd-3517bc253cae\", 4, [0.4204475, 0.541577]), (\"9dad221f-6531-43cb-913f-92c64835f88b\", 3, [0.27155924, 0.404231]), (\"fe118f24-2604-4aa8-ae34-ed1847aa4c05\", 3, [0.42160034, 0.4735239]), (\"f58b6b8f-5ece-4c39-8a2e-d554b32a86ea\", 4, [0.5968976, 0.58722365]), (\"9ee2db60-2da0-4f16-bc97-b0e40f591760\", 3, [0.33398616, 0.62978977]), (\"fab032f1-c6bd-4329-aa9a-b60397735ea0\", 4, [0.47887743, 0.5656732]), (\"fc5f8d55-4869-4565-99c9-1365df235407\", 3, [0.44168466, 0.44682378]), (\"b5b85a76-fce1-416f-92a7-8cb59775d8c0\", 4, [0.49241877, 0.45931]), (\"f06daf4b-1503-43c9-8c43-79bdf93704a0\", 3, [0.42019385, 0.37721056]), (\"d363b8a4-0653-4644-b479-1142509c892d\", 3, [0.26149163, 0.5143121])]\n",
      "Response from '/insert': Vector received\n",
      "Response from '/insert': Vector received\n",
      "Response from '/insert': Vector received\n",
      "Response from '/insert': Vector received\n",
      "Response from '/insert': Vector received\n",
      "Response from '/metadata': [(\"ccddc5e9-1afa-41a5-a5e9-d516b6078a5e\", 4, [0.39376098, 0.3831579]), (\"74823c3a-c158-47a0-9d90-d2acc1014a5c\", 4, [0.48796314, 0.3934452]), (\"7c3fb3b1-da0a-411c-bd14-09b95627cfc8\", 4, [0.35593683, 0.41327125]), (\"6bb4278a-9648-4317-a4c0-039ddd9dc268\", 3, [0.3113867, 0.45436987]), (\"c91db42e-87da-49d0-908c-bb59c4740f2b\", 4, [0.52803123, 0.46131113]), (\"a4cdf56f-fe76-4030-9e8d-8d986dba6146\", 3, [0.48349625, 0.56814003]), (\"1b5e78ca-272f-4493-a4bf-2591b4f8b910\", 4, [0.40005392, 0.47370988]), (\"59374687-cc41-4db8-9fd5-4bd6e7b4167b\", 3, [0.23911726, 0.48941165]), (\"4cc6443e-fae8-4687-b34a-7014ebd64d36\", 4, [0.39154553, 0.3975597]), (\"88582255-25e9-4f92-8e40-6ca86d96b54e\", 4, [0.4183663, 0.5478316]), (\"76f28232-8b45-45e2-b1a9-5008f46a0804\", 4, [0.5003947, 0.49146897]), (\"4c7cbe10-ed48-46ae-806e-5a263c2f3847\", 4, [0.383872, 0.49664116]), (\"8d56592b-80fc-4b2c-84fd-3517bc253cae\", 4, [0.4204475, 0.541577]), (\"9dad221f-6531-43cb-913f-92c64835f88b\", 3, [0.27155924, 0.404231]), (\"fe118f24-2604-4aa8-ae34-ed1847aa4c05\", 3, [0.42160034, 0.4735239]), (\"f58b6b8f-5ece-4c39-8a2e-d554b32a86ea\", 4, [0.47436967, 0.52271706]), (\"9ee2db60-2da0-4f16-bc97-b0e40f591760\", 4, [0.3648534, 0.49440563]), (\"fab032f1-c6bd-4329-aa9a-b60397735ea0\", 4, [0.47887743, 0.5656732]), (\"fc5f8d55-4869-4565-99c9-1365df235407\", 3, [0.44168466, 0.44682378]), (\"b5b85a76-fce1-416f-92a7-8cb59775d8c0\", 4, [0.49241877, 0.45931]), (\"f06daf4b-1503-43c9-8c43-79bdf93704a0\", 3, [0.42019385, 0.37721056]), (\"d363b8a4-0653-4644-b479-1142509c892d\", 3, [0.26149163, 0.5143121])]\n",
      "Response from '/insert': Vector received\n",
      "Response from '/insert': Vector received\n",
      "Response from '/insert': Vector received\n",
      "Response from '/insert': Vector received\n",
      "Response from '/insert': Vector received\n",
      "Response from '/metadata': [(\"ccddc5e9-1afa-41a5-a5e9-d516b6078a5e\", 4, [0.39376098, 0.3831579]), (\"74823c3a-c158-47a0-9d90-d2acc1014a5c\", 4, [0.48796314, 0.3934452]), (\"7c3fb3b1-da0a-411c-bd14-09b95627cfc8\", 4, [0.35593683, 0.41327125]), (\"6bb4278a-9648-4317-a4c0-039ddd9dc268\", 3, [0.3113867, 0.45436987]), (\"c91db42e-87da-49d0-908c-bb59c4740f2b\", 4, [0.52803123, 0.46131113]), (\"a4cdf56f-fe76-4030-9e8d-8d986dba6146\", 3, [0.48349625, 0.56814003]), (\"1b5e78ca-272f-4493-a4bf-2591b4f8b910\", 4, [0.40005392, 0.47370988]), (\"59374687-cc41-4db8-9fd5-4bd6e7b4167b\", 3, [0.28685707, 0.5936882]), (\"4cc6443e-fae8-4687-b34a-7014ebd64d36\", 4, [0.39154553, 0.3975597]), (\"88582255-25e9-4f92-8e40-6ca86d96b54e\", 4, [0.4183663, 0.5478316]), (\"76f28232-8b45-45e2-b1a9-5008f46a0804\", 4, [0.5003947, 0.49146897]), (\"4c7cbe10-ed48-46ae-806e-5a263c2f3847\", 4, [0.383872, 0.49664116]), (\"8d56592b-80fc-4b2c-84fd-3517bc253cae\", 4, [0.4204475, 0.541577]), (\"9dad221f-6531-43cb-913f-92c64835f88b\", 4, [0.43704844, 0.51320136]), (\"9b7e5fbd-1348-46b4-82b6-d70cc70fb50d\", 3, [0.53232354, 0.48710465]), (\"fe118f24-2604-4aa8-ae34-ed1847aa4c05\", 3, [0.42160034, 0.4735239]), (\"f58b6b8f-5ece-4c39-8a2e-d554b32a86ea\", 4, [0.47436967, 0.52271706]), (\"9ee2db60-2da0-4f16-bc97-b0e40f591760\", 4, [0.3648534, 0.49440563]), (\"fab032f1-c6bd-4329-aa9a-b60397735ea0\", 4, [0.47887743, 0.5656732]), (\"fc5f8d55-4869-4565-99c9-1365df235407\", 3, [0.44168466, 0.44682378]), (\"b5b85a76-fce1-416f-92a7-8cb59775d8c0\", 4, [0.49241877, 0.45931]), (\"f06daf4b-1503-43c9-8c43-79bdf93704a0\", 3, [0.42019385, 0.37721056]), (\"d363b8a4-0653-4644-b479-1142509c892d\", 4, [0.34630588, 0.5527086])]\n",
      "Response from '/insert': Vector received\n",
      "Response from '/insert': Vector received\n",
      "Response from '/insert': Vector received\n",
      "Response from '/insert': Vector received\n",
      "Response from '/insert': Vector received\n",
      "Response from '/metadata': [(\"ccddc5e9-1afa-41a5-a5e9-d516b6078a5e\", 4, [0.39376098, 0.3831579]), (\"74823c3a-c158-47a0-9d90-d2acc1014a5c\", 2, [0.5951121, 0.5248383]), (\"7c3fb3b1-da0a-411c-bd14-09b95627cfc8\", 4, [0.35593683, 0.41327125]), (\"6bb4278a-9648-4317-a4c0-039ddd9dc268\", 4, [0.4193566, 0.4653591]), (\"ee68c030-4fcf-4b74-9998-261096bf0d6a\", 3, [0.47390422, 0.28255948]), (\"c91db42e-87da-49d0-908c-bb59c4740f2b\", 4, [0.52803123, 0.46131113]), (\"a4cdf56f-fe76-4030-9e8d-8d986dba6146\", 3, [0.48349625, 0.56814003]), (\"1b5e78ca-272f-4493-a4bf-2591b4f8b910\", 4, [0.40005392, 0.47370988]), (\"59374687-cc41-4db8-9fd5-4bd6e7b4167b\", 4, [0.4182895, 0.49949962]), (\"4cc6443e-fae8-4687-b34a-7014ebd64d36\", 4, [0.39154553, 0.3975597]), (\"88582255-25e9-4f92-8e40-6ca86d96b54e\", 4, [0.4183663, 0.5478316]), (\"76f28232-8b45-45e2-b1a9-5008f46a0804\", 4, [0.5003947, 0.49146897]), (\"4c7cbe10-ed48-46ae-806e-5a263c2f3847\", 4, [0.383872, 0.49664116]), (\"8d56592b-80fc-4b2c-84fd-3517bc253cae\", 4, [0.4204475, 0.541577]), (\"9dad221f-6531-43cb-913f-92c64835f88b\", 4, [0.43704844, 0.51320136]), (\"9b7e5fbd-1348-46b4-82b6-d70cc70fb50d\", 3, [0.53232354, 0.48710465]), (\"fe118f24-2604-4aa8-ae34-ed1847aa4c05\", 3, [0.42160034, 0.4735239]), (\"f58b6b8f-5ece-4c39-8a2e-d554b32a86ea\", 4, [0.47436967, 0.52271706]), (\"9ee2db60-2da0-4f16-bc97-b0e40f591760\", 4, [0.3648534, 0.49440563]), (\"fab032f1-c6bd-4329-aa9a-b60397735ea0\", 4, [0.47887743, 0.5656732]), (\"fc5f8d55-4869-4565-99c9-1365df235407\", 3, [0.44168466, 0.44682378]), (\"7a9b50c5-8d73-43c8-81a0-1045569805af\", 2, [0.2328334, 0.80450493]), (\"b5b85a76-fce1-416f-92a7-8cb59775d8c0\", 4, [0.49241877, 0.45931]), (\"f06daf4b-1503-43c9-8c43-79bdf93704a0\", 3, [0.42019385, 0.37721056]), (\"d363b8a4-0653-4644-b479-1142509c892d\", 4, [0.34630588, 0.5527086])]\n",
      "Response from '/insert': Vector received\n",
      "Response from '/insert': Vector received\n",
      "Response from '/insert': Vector received\n",
      "Response from '/insert': Vector received\n",
      "Response from '/insert': Vector received\n",
      "Response from '/metadata': [(\"ccddc5e9-1afa-41a5-a5e9-d516b6078a5e\", 4, [0.39376098, 0.3831579]), (\"74823c3a-c158-47a0-9d90-d2acc1014a5c\", 3, [0.44494152, 0.48346514]), (\"7c3fb3b1-da0a-411c-bd14-09b95627cfc8\", 4, [0.35593683, 0.41327125]), (\"6bb4278a-9648-4317-a4c0-039ddd9dc268\", 4, [0.4193566, 0.4653591]), (\"ee68c030-4fcf-4b74-9998-261096bf0d6a\", 3, [0.47390422, 0.28255948]), (\"c91db42e-87da-49d0-908c-bb59c4740f2b\", 4, [0.52803123, 0.46131113]), (\"a4cdf56f-fe76-4030-9e8d-8d986dba6146\", 3, [0.48349625, 0.56814003]), (\"1b5e78ca-272f-4493-a4bf-2591b4f8b910\", 4, [0.40005392, 0.47370988]), (\"59374687-cc41-4db8-9fd5-4bd6e7b4167b\", 4, [0.4182895, 0.49949962]), (\"2502e19b-4aa5-42c6-9c86-1c7eb25a7cb9\", 4, [0.31351322, 0.44895]), (\"4cc6443e-fae8-4687-b34a-7014ebd64d36\", 4, [0.39154553, 0.3975597]), (\"88582255-25e9-4f92-8e40-6ca86d96b54e\", 4, [0.4183663, 0.5478316]), (\"76f28232-8b45-45e2-b1a9-5008f46a0804\", 4, [0.5003947, 0.49146897]), (\"4c7cbe10-ed48-46ae-806e-5a263c2f3847\", 4, [0.383872, 0.49664116]), (\"8d56592b-80fc-4b2c-84fd-3517bc253cae\", 4, [0.4204475, 0.541577]), (\"9dad221f-6531-43cb-913f-92c64835f88b\", 4, [0.43704844, 0.51320136]), (\"9b7e5fbd-1348-46b4-82b6-d70cc70fb50d\", 3, [0.53232354, 0.48710465]), (\"fe118f24-2604-4aa8-ae34-ed1847aa4c05\", 3, [0.42160034, 0.4735239]), (\"f58b6b8f-5ece-4c39-8a2e-d554b32a86ea\", 4, [0.47436967, 0.52271706]), (\"9ee2db60-2da0-4f16-bc97-b0e40f591760\", 4, [0.3648534, 0.49440563]), (\"fab032f1-c6bd-4329-aa9a-b60397735ea0\", 4, [0.47887743, 0.5656732]), (\"fc5f8d55-4869-4565-99c9-1365df235407\", 3, [0.44168466, 0.44682378]), (\"7a9b50c5-8d73-43c8-81a0-1045569805af\", 4, [0.49656722, 0.6008814]), (\"b5b85a76-fce1-416f-92a7-8cb59775d8c0\", 4, [0.49241877, 0.45931]), (\"f06daf4b-1503-43c9-8c43-79bdf93704a0\", 3, [0.42019385, 0.37721056]), (\"d363b8a4-0653-4644-b479-1142509c892d\", 2, [0.5521904, 0.82891405])]\n",
      "Response from '/insert': Vector received\n",
      "Response from '/insert': Vector received\n",
      "Response from '/insert': Vector received\n",
      "Response from '/insert': Vector received\n",
      "Response from '/insert': Vector received\n",
      "Response from '/metadata': [(\"ccddc5e9-1afa-41a5-a5e9-d516b6078a5e\", 4, [0.39376098, 0.3831579]), (\"994396f9-b6c1-4fcf-8e9b-e05a5ed9dc67\", 4, [0.42293525, 0.39720827]), (\"74823c3a-c158-47a0-9d90-d2acc1014a5c\", 3, [0.44494152, 0.48346514]), (\"7c3fb3b1-da0a-411c-bd14-09b95627cfc8\", 4, [0.35593683, 0.41327125]), (\"6bb4278a-9648-4317-a4c0-039ddd9dc268\", 4, [0.4193566, 0.4653591]), (\"ee68c030-4fcf-4b74-9998-261096bf0d6a\", 4, [0.5209499, 0.42787606]), (\"c91db42e-87da-49d0-908c-bb59c4740f2b\", 4, [0.52803123, 0.46131113]), (\"a4cdf56f-fe76-4030-9e8d-8d986dba6146\", 3, [0.48349625, 0.56814003]), (\"1b5e78ca-272f-4493-a4bf-2591b4f8b910\", 4, [0.40005392, 0.47370988]), (\"59374687-cc41-4db8-9fd5-4bd6e7b4167b\", 4, [0.4182895, 0.49949962]), (\"2502e19b-4aa5-42c6-9c86-1c7eb25a7cb9\", 3, [0.5522523, 0.6270969]), (\"4cc6443e-fae8-4687-b34a-7014ebd64d36\", 4, [0.39154553, 0.3975597]), (\"88582255-25e9-4f92-8e40-6ca86d96b54e\", 4, [0.4183663, 0.5478316]), (\"76f28232-8b45-45e2-b1a9-5008f46a0804\", 4, [0.5003947, 0.49146897]), (\"4c7cbe10-ed48-46ae-806e-5a263c2f3847\", 4, [0.383872, 0.49664116]), (\"8d56592b-80fc-4b2c-84fd-3517bc253cae\", 4, [0.4204475, 0.541577]), (\"9dad221f-6531-43cb-913f-92c64835f88b\", 4, [0.43704844, 0.51320136]), (\"9b7e5fbd-1348-46b4-82b6-d70cc70fb50d\", 3, [0.53232354, 0.48710465]), (\"fe118f24-2604-4aa8-ae34-ed1847aa4c05\", 3, [0.42160034, 0.4735239]), (\"f58b6b8f-5ece-4c39-8a2e-d554b32a86ea\", 4, [0.47436967, 0.52271706]), (\"9ee2db60-2da0-4f16-bc97-b0e40f591760\", 4, [0.3648534, 0.49440563]), (\"fab032f1-c6bd-4329-aa9a-b60397735ea0\", 4, [0.47887743, 0.5656732]), (\"fc5f8d55-4869-4565-99c9-1365df235407\", 3, [0.44168466, 0.44682378]), (\"7a9b50c5-8d73-43c8-81a0-1045569805af\", 4, [0.49656722, 0.6008814]), (\"b5b85a76-fce1-416f-92a7-8cb59775d8c0\", 4, [0.49241877, 0.45931]), (\"f06daf4b-1503-43c9-8c43-79bdf93704a0\", 3, [0.42019385, 0.37721056]), (\"d363b8a4-0653-4644-b479-1142509c892d\", 3, [0.64969105, 0.6372187])]\n"
     ]
    }
   ],
   "source": [
    "for i, vector in enumerate(vectors):\n",
    "    if i % 5 == 0:\n",
    "        get_metadata()\n",
    "\n",
    "    insert_vector({\n",
    "        \"vector\": vector  # Example vector data\n",
    "    })\n",
    "get_metadata()"
   ]
  },
  {
   "cell_type": "code",
   "execution_count": 22,
   "metadata": {},
   "outputs": [
    {
     "name": "stdout",
     "output_type": "stream",
     "text": [
      "Response from '/insert': Vector received\n",
      "Response from '/metadata': [(\"06a46828-23be-4c45-9a31-1396c883b30a\", 4, [0.5826603, 0.48415983]), (\"2634d090-7ce3-400a-a2ee-5945246841e3\", 4, [0.48835737, 0.4196326]), (\"6bb4278a-9648-4317-a4c0-039ddd9dc268\", 4, [0.4193566, 0.4653591]), (\"1e8c3eb9-3483-4f64-b20d-4174cecd2276\", 4, [0.50156957, 0.550275]), (\"37c9e5b6-5a75-4328-88ee-3e1456b0ae8e\", 4, [0.5799259, 0.5163311]), (\"a387fb3d-6461-4505-a1b5-a824cd2bacb9\", 4, [0.4535437, 0.50555074]), (\"d9fe64da-6921-4f8f-a0d9-6a2156e02d32\", 4, [0.50054586, 0.47189865]), (\"b8fe3e4a-3791-4205-9218-3b85452824f6\", 4, [0.59580773, 0.4939639]), (\"7ab1a729-890c-4c08-a68c-a2661f644282\", 4, [0.4790628, 0.5987922]), (\"4cc6443e-fae8-4687-b34a-7014ebd64d36\", 2, [0.4955396, 0.48564303]), (\"3a6a704a-ef23-49f7-9959-24bb2016b7ea\", 4, [0.461459, 0.5312891]), (\"4c7cbe10-ed48-46ae-806e-5a263c2f3847\", 4, [0.4814608, 0.53516656]), (\"68bd9f9a-c6d7-4365-99b8-d71250964c67\", 4, [0.6017304, 0.44588152]), (\"9b7e5fbd-1348-46b4-82b6-d70cc70fb50d\", 3, [0.53232354, 0.48710465]), (\"d5de9d35-0d47-41ea-91a9-ffc41450ab33\", 4, [0.45417136, 0.49893403]), (\"76a53795-3808-4556-988a-f190e7d2f8cd\", 4, [0.4938933, 0.5517334]), (\"4409a1ae-74f9-473c-a8f0-44334063c73b\", 4, [0.54233444, 0.41489467]), (\"f58b6b8f-5ece-4c39-8a2e-d554b32a86ea\", 4, [0.47436967, 0.52271706]), (\"ddde2dbd-2945-4a7b-be8b-0594e0eee83a\", 3, [0.4479414, 0.43228555]), (\"e68f4b8a-11bf-401a-aa38-1e3db5355d69\", 4, [0.44148046, 0.40893504]), (\"fc5f8d55-4869-4565-99c9-1365df235407\", 3, [0.44168466, 0.44682378]), (\"8a598b19-7289-4654-a6c5-4dc113195a67\", 4, [0.53252554, 0.50441176]), (\"3a6abb59-0e07-49b4-bb1b-97e8b0535fcc\", 4, [0.4780442, 0.57418513]), (\"8ba67982-a5ec-4bcf-9fe5-a3e9b842b135\", 4, [0.44424802, 0.44609648]), (\"8334f44e-4cf6-4b22-b94e-25029e96a290\", 3, [0.5425055, 0.47487926]), (\"ccddc5e9-1afa-41a5-a5e9-d516b6078a5e\", 4, [0.56466573, 0.49645358]), (\"d04cfc39-ee5b-45a8-bc4e-b24e31e9ebd2\", 4, [0.41586518, 0.476138]), (\"5342d88c-e112-4759-a0aa-ca784177c04c\", 4, [0.41101032, 0.45726484]), (\"fe3b4227-26e8-44a1-bbc8-256359323152\", 4, [0.4871682, 0.55057395]), (\"d71fdf31-c133-43a8-90bb-3cb8c68c58c6\", 4, [0.48308277, 0.5608771]), (\"c80119c2-dce5-427e-b887-1f395f7b1e75\", 4, [0.5116777, 0.5030455]), (\"f5e969d9-1623-47bf-a23a-bfb0160d1db1\", 3, [0.40825948, 0.5321822]), (\"50d2946c-6bc3-41ef-8ab6-da373901ffa8\", 3, [0.4154745, 0.49638242]), (\"90c73088-9a65-4b67-bdd0-52118a6bb540\", 2, [0.37969422, 0.5052484]), (\"6ba22fda-9bbb-479d-a49e-8f84c0b5b807\", 4, [0.5273967, 0.502153]), (\"0e8d025d-3b21-4a57-8a6c-cc6a0ded405c\", 4, [0.5712551, 0.58440983]), (\"d73c0dc0-2ce2-4735-9dd4-58d1ff40678a\", 4, [0.4911775, 0.43515682]), (\"ddf1140e-5985-4dc9-b86f-15b8a56e0247\", 3, [0.49043506, 0.6080199]), (\"8b4c02cc-f3cb-44ec-ae18-3645b063b14c\", 3, [0.5095906, 0.53177464]), (\"88582255-25e9-4f92-8e40-6ca86d96b54e\", 4, [0.4183663, 0.5478316]), (\"0004370a-d1ec-4271-b757-71b9cd74eede\", 4, [0.5090649, 0.4960708]), (\"d067117e-7cd2-4a6b-88d0-415e9c949d41\", 3, [0.5496237, 0.5532514]), (\"fe118f24-2604-4aa8-ae34-ed1847aa4c05\", 3, [0.42160034, 0.4735239]), (\"0cf48b55-f48a-4161-ac12-1a93b24bea25\", 4, [0.54348594, 0.48648196]), (\"bb8f17aa-eff7-4c2c-8e89-a1e445d3bde0\", 4, [0.5667107, 0.5021209]), (\"d5f98276-fa2d-44eb-a121-a87278e84b63\", 4, [0.58361036, 0.55368096]), (\"dd88309a-f893-4882-ab29-b448f508bde9\", 3, [0.47159243, 0.5950292]), (\"beebfbe8-37ee-4e8f-8200-a21f0952b428\", 2, [0.42174333, 0.44798386]), (\"0d44b315-453b-4a68-9e52-1f0c7c8ffc50\", 4, [0.46552318, 0.5651279]), (\"d363b8a4-0653-4644-b479-1142509c892d\", 4, [0.47405833, 0.42462662]), (\"87320161-5dca-460e-baa9-4752d1940bff\", 4, [0.43425304, 0.54880816]), (\"10ce667b-8a02-4585-9bbe-161e4ed50364\", 4, [0.47833654, 0.50775117]), (\"06589be8-de64-4d32-b3f7-f410cbf4e768\", 4, [0.49186927, 0.5012012]), (\"01b969b4-2c43-47fc-a4ba-b5611e5f74b7\", 4, [0.56843805, 0.50568265]), (\"b6025313-07b7-4449-8504-ed19ec3ed77f\", 3, [0.4726299, 0.41736084]), (\"2cf86f29-bf12-4021-b6db-5fd94b798cc5\", 4, [0.4862647, 0.54248255]), (\"a0959ccc-d988-4397-9a69-db44c393bd6b\", 4, [0.5819583, 0.5797503]), (\"2826eadd-cff3-43ea-828a-3c1a9935bae8\", 3, [0.51534724, 0.51852083]), (\"0b95f729-3b12-4cbd-b09c-cc2b5d609cba\", 3, [0.49811226, 0.28495386]), (\"8b15ad2b-e7e2-4054-bb96-8b1345922f8f\", 2, [0.26002234, 0.87114537]), (\"ad50f7bd-5f21-4262-b3eb-02cc67af1f77\", 3, [0.4109088, 0.44100398]), (\"4395f5d8-83fa-4b8d-b7c2-8c16274232c5\", 4, [0.5461188, 0.5208523]), (\"fad7595d-b814-4eb2-8e5e-d28bfdac4c06\", 4, [0.5794324, 0.55027056]), (\"d6d691ef-6d55-4461-8c6b-cfb0bfba41b7\", 4, [0.52308065, 0.46295935]), (\"8b3407bf-5b43-4170-8447-27900d8a4dea\", 4, [0.5661396, 0.5985412]), (\"df066152-7ee6-4dc1-afe4-4d26c7e0e059\", 4, [0.5527503, 0.56019026]), (\"6b602ae0-d717-4f9c-aee6-7242baef9c0b\", 4, [0.54728496, 0.5447736]), (\"61a0f7aa-31e1-418c-b541-52a73844cce6\", 4, [0.45105356, 0.5459072]), (\"b5cd093b-4fb7-46e0-839c-03ff964a98ac\", 3, [0.5949322, 0.51541686]), (\"56c0216c-607f-42d1-8442-453d12daded5\", 4, [0.434183, 0.45983213]), (\"b555fe45-7c86-4824-a2a3-d7e263d2da57\", 4, [0.46319762, 0.40527457]), (\"72fe50b4-acca-4249-8827-7632e5bab2a6\", 4, [0.54321444, 0.45870197]), (\"57377f90-ab6a-453e-824f-a3aefb3e1a77\", 4, [0.4397421, 0.46104395]), (\"b1b5febd-7c96-4ae1-8a7d-13bec7b06dae\", 4, [0.4406765, 0.51858914]), (\"f06daf4b-1503-43c9-8c43-79bdf93704a0\", 4, [0.41439697, 0.4639178]), (\"4c038d5c-d8e0-451d-abe8-13406135eabe\", 4, [0.43822902, 0.42327446]), (\"7c3fb3b1-da0a-411c-bd14-09b95627cfc8\", 4, [0.4496727, 0.520181]), (\"d60a7c07-5918-4ac7-b07a-5f7320820b67\", 4, [0.55106086, 0.5238799]), (\"6ab6101b-ed32-4888-a473-80264790173f\", 4, [0.5211385, 0.59786767]), (\"76f28232-8b45-45e2-b1a9-5008f46a0804\", 4, [0.5003947, 0.49146897]), (\"9dad221f-6531-43cb-913f-92c64835f88b\", 4, [0.43704844, 0.51320136]), (\"d3f5d3da-9c3c-4ad2-b866-b08b9ed26776\", 4, [0.5174078, 0.5150955]), (\"15e07826-3a8f-4032-9227-9d3afaee9851\", 4, [0.47338855, 0.46585315]), (\"2a19aed6-1baf-4487-a20b-98ed52be6510\", 3, [0.43620786, 0.50068057]), (\"fab032f1-c6bd-4329-aa9a-b60397735ea0\", 4, [0.47887743, 0.5656732]), (\"1008af54-a996-49a4-96d5-7ceea9a9cfe1\", 4, [0.46213624, 0.5774106]), (\"d99cd210-6c51-4543-8665-279f1c9cd638\", 3, [0.40624064, 0.47086865]), (\"d9915b3c-ca79-4a4f-80da-62fb53339bbf\", 4, [0.4200762, 0.4569664]), (\"58b70748-49cf-413c-960d-0732f78245e2\", 3, [0.5111383, 0.55337644]), (\"74823c3a-c158-47a0-9d90-d2acc1014a5c\", 3, [0.44494152, 0.48346514]), (\"a4cdf56f-fe76-4030-9e8d-8d986dba6146\", 3, [0.48349625, 0.56814003]), (\"59374687-cc41-4db8-9fd5-4bd6e7b4167b\", 4, [0.4182895, 0.49949962]), (\"68f8fab6-ee4b-40ed-a54e-78fd6c2d54e3\", 4, [0.5937865, 0.47728363]), (\"e0b9b11a-82cb-4b25-b2ec-3f2a9d981657\", 4, [0.41565147, 0.43607533]), (\"80a5d95a-dad5-4438-b738-d40bbb4b5be8\", 4, [0.517461, 0.48171937]), (\"8d56592b-80fc-4b2c-84fd-3517bc253cae\", 4, [0.4204475, 0.541577]), (\"e14da1d3-920b-4e18-8404-ce503ff0e986\", 3, [0.533329, 0.5323953]), (\"61a76b5b-586c-4e4b-bb0e-27bd955988e0\", 4, [0.41421303, 0.52127284]), (\"e8122783-14b0-423e-a286-f0fda1af9706\", 4, [0.48282924, 0.42082846]), (\"b6fbf11e-c20c-4d1c-83b5-433b6643eb8b\", 4, [0.456844, 0.5918625]), (\"98766f75-db4c-4aca-8e69-6d8abbfbc746\", 3, [0.62020975, 0.5649923]), (\"4090d2b8-5ada-4c0e-83cc-c6bba7714d07\", 2, [0.5753318, 0.38869828]), (\"13102b0b-3a94-4235-8dbd-090651258b0c\", 4, [0.5164557, 0.44887036]), (\"68abaf97-4b93-49b7-ae13-7dbd2aa72a20\", 4, [0.42626408, 0.5466022]), (\"b3ae39ce-1ac2-4410-8176-585522583b91\", 3, [0.43077153, 0.40829492]), (\"b5b85a76-fce1-416f-92a7-8cb59775d8c0\", 4, [0.49241877, 0.45931]), (\"6a1d713a-4d2e-4238-819c-701e5371cee9\", 4, [0.6061867, 0.4772842]), (\"03763e44-398e-4532-9c8d-b15e9c780f23\", 4, [0.42572045, 0.49406582]), (\"b3dcdc4e-ff63-4199-8545-fde31b7a07f9\", 4, [0.46093148, 0.5884012]), (\"994396f9-b6c1-4fcf-8e9b-e05a5ed9dc67\", 3, [0.5393082, 0.54443854]), (\"6617ff5e-c43f-48a4-9ce3-b01febedf434\", 4, [0.41632473, 0.4363858]), (\"935c4234-626c-49fb-9e96-f3a0722da439\", 4, [0.43057102, 0.4727757]), (\"c3b71990-5564-4960-af4b-621083622d1a\", 4, [0.51379114, 0.5211938]), (\"652f0768-e080-4057-bac8-0b496a8d4109\", 4, [0.5658476, 0.5008643]), (\"4517fd07-8144-4bd0-902e-7478a7b3a0e7\", 4, [0.53058934, 0.44180775]), (\"abcd55d7-008a-4d20-92c4-8c1fd77d0f39\", 4, [0.4796877, 0.49119204]), (\"c91db42e-87da-49d0-908c-bb59c4740f2b\", 4, [0.52803123, 0.46131113]), (\"60d422ad-3147-4dac-a2d6-31c774480f92\", 3, [0.44702083, 0.42809647]), (\"97148d21-664d-47cc-bda5-a01f58bfd4d4\", 4, [0.5579383, 0.48254427]), (\"57b67ef3-f7ce-47bc-92df-55c1df6d931a\", 3, [0.61518633, 0.26333144]), (\"d9b86f46-7d9d-4f16-82cc-7aa949ed6679\", 3, [0.5929294, 0.5491837]), (\"92b7855f-6f6f-451f-8777-8b8856476e40\", 4, [0.5831808, 0.46825123]), (\"0879b0cd-1e57-4272-b238-a4f7041ff185\", 4, [0.5149621, 0.5496754]), (\"9ee2db60-2da0-4f16-bc97-b0e40f591760\", 4, [0.48204175, 0.42611122]), (\"7a9b50c5-8d73-43c8-81a0-1045569805af\", 3, [0.50741315, 0.41776782]), (\"8629f2b2-b6db-4f48-8a25-3cb6b35932d3\", 3, [0.46966562, 0.5083097]), (\"e352f081-1825-4026-aaae-98533d4e3fad\", 4, [0.56282705, 0.4758234]), (\"ee68c030-4fcf-4b74-9998-261096bf0d6a\", 4, [0.5716429, 0.50704426]), (\"1b5e78ca-272f-4493-a4bf-2591b4f8b910\", 4, [0.40005392, 0.47370988]), (\"060adb89-afc3-4d68-bd50-73299c655a4e\", 3, [0.40450594, 0.49694523]), (\"2502e19b-4aa5-42c6-9c86-1c7eb25a7cb9\", 4, [0.4782625, 0.5174149]), (\"9032814c-04ad-4046-9e0a-cc2d53fa9a03\", 2, [0.57134676, 0.5203501]), (\"d9aacbca-47e8-4d99-9979-0ea71be91e71\", 3, [0.5769233, 0.3883471]), (\"f95c8ecd-8a41-4b4a-b8d3-d6343a0632d5\", 4, [0.4182742, 0.5506077]), (\"5fc4eb9a-7a2a-42c8-ae00-c7b3f07cef1d\", 4, [0.4421594, 0.53903115]), (\"3a3b5eba-d4a6-430d-8c5d-34754a9ea550\", 4, [0.513633, 0.48387736])]\n"
     ]
    }
   ],
   "source": [
    "batch = []\n",
    "\n",
    "for i, vector in enumerate(vectors):\n",
    "    batch.append({\"vector\": vector})  # Collect vectors in a batch\n",
    "\n",
    "    # Send batch when it reaches size 5\n",
    "    if len(batch) == 500:\n",
    "        insert_batch_vector(batch)\n",
    "        batch = []  # Reset the batch\n",
    "        get_metadata()\n",
    "\n",
    "# Insert any remaining vectors in the final batch\n",
    "if batch:\n",
    "    insert_batch_vector(batch)\n",
    "    get_metadata()\n"
   ]
  }
 ],
 "metadata": {
  "kernelspec": {
   "display_name": "Python 3",
   "language": "python",
   "name": "python3"
  },
  "language_info": {
   "codemirror_mode": {
    "name": "ipython",
    "version": 3
   },
   "file_extension": ".py",
   "mimetype": "text/x-python",
   "name": "python",
   "nbconvert_exporter": "python",
   "pygments_lexer": "ipython3",
   "version": "3.11.4"
  }
 },
 "nbformat": 4,
 "nbformat_minor": 2
}
